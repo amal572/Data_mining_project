{
  "cells": [
    {
      "cell_type": "markdown",
      "source": [
        "##download"
      ],
      "metadata": {
        "id": "XrbOZLB9cFoM"
      },
      "id": "XrbOZLB9cFoM"
    },
    {
      "cell_type": "code",
      "source": [
        "!pip install owlready2"
      ],
      "metadata": {
        "colab": {
          "base_uri": "https://localhost:8080/"
        },
        "id": "UcbeDfI0cEaN",
        "outputId": "113ac285-e22b-4285-a0c8-0335d7ed14f1"
      },
      "id": "UcbeDfI0cEaN",
      "execution_count": 1,
      "outputs": [
        {
          "output_type": "stream",
          "name": "stdout",
          "text": [
            "Looking in indexes: https://pypi.org/simple, https://us-python.pkg.dev/colab-wheels/public/simple/\n",
            "Collecting owlready2\n",
            "  Downloading Owlready2-0.38.tar.gz (25.4 MB)\n",
            "\u001b[K     |████████████████████████████████| 25.4 MB 2.3 MB/s \n",
            "\u001b[?25hBuilding wheels for collected packages: owlready2\n",
            "  Building wheel for owlready2 (setup.py) ... \u001b[?25l\u001b[?25hdone\n",
            "  Created wheel for owlready2: filename=Owlready2-0.38-cp37-cp37m-linux_x86_64.whl size=22127095 sha256=429628b6e2b1ed8484fb37dbbbffdc017f7e8953137540951835eb0db6a0902d\n",
            "  Stored in directory: /root/.cache/pip/wheels/ee/48/58/3ea20d69efcb97a26048fbfcce9332412077df80d4ae52365b\n",
            "Successfully built owlready2\n",
            "Installing collected packages: owlready2\n",
            "Successfully installed owlready2-0.38\n"
          ]
        }
      ]
    },
    {
      "cell_type": "code",
      "source": [
        "!pip install googletrans==3.1.0a0"
      ],
      "metadata": {
        "colab": {
          "base_uri": "https://localhost:8080/"
        },
        "id": "WGIXleFJvTgm",
        "outputId": "00ffc2ab-0328-491a-896f-d236176932a8"
      },
      "id": "WGIXleFJvTgm",
      "execution_count": 3,
      "outputs": [
        {
          "output_type": "stream",
          "name": "stdout",
          "text": [
            "Looking in indexes: https://pypi.org/simple, https://us-python.pkg.dev/colab-wheels/public/simple/\n",
            "Collecting googletrans==3.1.0a0\n",
            "  Downloading googletrans-3.1.0a0.tar.gz (19 kB)\n",
            "Collecting httpx==0.13.3\n",
            "  Downloading httpx-0.13.3-py3-none-any.whl (55 kB)\n",
            "\u001b[K     |████████████████████████████████| 55 kB 3.0 MB/s \n",
            "\u001b[?25hCollecting hstspreload\n",
            "  Downloading hstspreload-2021.12.1-py3-none-any.whl (1.3 MB)\n",
            "\u001b[K     |████████████████████████████████| 1.3 MB 13.1 MB/s \n",
            "\u001b[?25hRequirement already satisfied: chardet==3.* in /usr/local/lib/python3.7/dist-packages (from httpx==0.13.3->googletrans==3.1.0a0) (3.0.4)\n",
            "Collecting httpcore==0.9.*\n",
            "  Downloading httpcore-0.9.1-py3-none-any.whl (42 kB)\n",
            "\u001b[K     |████████████████████████████████| 42 kB 1.7 MB/s \n",
            "\u001b[?25hCollecting sniffio\n",
            "  Downloading sniffio-1.2.0-py3-none-any.whl (10 kB)\n",
            "Requirement already satisfied: certifi in /usr/local/lib/python3.7/dist-packages (from httpx==0.13.3->googletrans==3.1.0a0) (2022.6.15)\n",
            "Collecting rfc3986<2,>=1.3\n",
            "  Downloading rfc3986-1.5.0-py2.py3-none-any.whl (31 kB)\n",
            "Requirement already satisfied: idna==2.* in /usr/local/lib/python3.7/dist-packages (from httpx==0.13.3->googletrans==3.1.0a0) (2.10)\n",
            "Collecting h2==3.*\n",
            "  Downloading h2-3.2.0-py2.py3-none-any.whl (65 kB)\n",
            "\u001b[K     |████████████████████████████████| 65 kB 4.5 MB/s \n",
            "\u001b[?25hCollecting h11<0.10,>=0.8\n",
            "  Downloading h11-0.9.0-py2.py3-none-any.whl (53 kB)\n",
            "\u001b[K     |████████████████████████████████| 53 kB 2.7 MB/s \n",
            "\u001b[?25hCollecting hpack<4,>=3.0\n",
            "  Downloading hpack-3.0.0-py2.py3-none-any.whl (38 kB)\n",
            "Collecting hyperframe<6,>=5.2.0\n",
            "  Downloading hyperframe-5.2.0-py2.py3-none-any.whl (12 kB)\n",
            "Building wheels for collected packages: googletrans\n",
            "  Building wheel for googletrans (setup.py) ... \u001b[?25l\u001b[?25hdone\n",
            "  Created wheel for googletrans: filename=googletrans-3.1.0a0-py3-none-any.whl size=16367 sha256=db5d69549cc858fde304e6925c3b66f073798db8045bffa65aed040aa69ec42f\n",
            "  Stored in directory: /root/.cache/pip/wheels/0c/be/fe/93a6a40ffe386e16089e44dad9018ebab9dc4cb9eb7eab65ae\n",
            "Successfully built googletrans\n",
            "Installing collected packages: hyperframe, hpack, sniffio, h2, h11, rfc3986, httpcore, hstspreload, httpx, googletrans\n",
            "Successfully installed googletrans-3.1.0a0 h11-0.9.0 h2-3.2.0 hpack-3.0.0 hstspreload-2021.12.1 httpcore-0.9.1 httpx-0.13.3 hyperframe-5.2.0 rfc3986-1.5.0 sniffio-1.2.0\n"
          ]
        }
      ]
    },
    {
      "cell_type": "code",
      "source": [
        "!pip install fuzzywuzzy"
      ],
      "metadata": {
        "colab": {
          "base_uri": "https://localhost:8080/"
        },
        "id": "MqX3Lf07Nj-a",
        "outputId": "b1cc1439-7587-4429-9af9-c875942a67a8"
      },
      "id": "MqX3Lf07Nj-a",
      "execution_count": null,
      "outputs": [
        {
          "output_type": "stream",
          "name": "stdout",
          "text": [
            "Looking in indexes: https://pypi.org/simple, https://us-python.pkg.dev/colab-wheels/public/simple/\n",
            "Collecting fuzzywuzzy\n",
            "  Downloading fuzzywuzzy-0.18.0-py2.py3-none-any.whl (18 kB)\n",
            "Installing collected packages: fuzzywuzzy\n",
            "Successfully installed fuzzywuzzy-0.18.0\n"
          ]
        }
      ]
    },
    {
      "cell_type": "code",
      "source": [
        "!pip install -U git+https://github.com/PrithivirajDamodaran/Gramformer.git"
      ],
      "metadata": {
        "colab": {
          "base_uri": "https://localhost:8080/"
        },
        "id": "XJouVsT3cotX",
        "outputId": "b79ccd21-addf-4642-92cf-f74a5c5081b8"
      },
      "id": "XJouVsT3cotX",
      "execution_count": null,
      "outputs": [
        {
          "output_type": "stream",
          "name": "stdout",
          "text": [
            "Looking in indexes: https://pypi.org/simple, https://us-python.pkg.dev/colab-wheels/public/simple/\n",
            "Collecting git+https://github.com/PrithivirajDamodaran/Gramformer.git\n",
            "  Cloning https://github.com/PrithivirajDamodaran/Gramformer.git to /tmp/pip-req-build-228zs5ue\n",
            "  Running command git clone -q https://github.com/PrithivirajDamodaran/Gramformer.git /tmp/pip-req-build-228zs5ue\n",
            "Requirement already satisfied: transformers in /usr/local/lib/python3.7/dist-packages (from gramformer==1.0) (4.20.0)\n",
            "Requirement already satisfied: sentencepiece in /usr/local/lib/python3.7/dist-packages (from gramformer==1.0) (0.1.96)\n",
            "Requirement already satisfied: python-Levenshtein in /usr/local/lib/python3.7/dist-packages (from gramformer==1.0) (0.12.2)\n",
            "Requirement already satisfied: fuzzywuzzy in /usr/local/lib/python3.7/dist-packages (from gramformer==1.0) (0.18.0)\n",
            "Requirement already satisfied: tokenizers in /usr/local/lib/python3.7/dist-packages (from gramformer==1.0) (0.12.1)\n",
            "Requirement already satisfied: fsspec in /usr/local/lib/python3.7/dist-packages (from gramformer==1.0) (2022.5.0)\n",
            "Requirement already satisfied: errant in /usr/local/lib/python3.7/dist-packages (from gramformer==1.0) (2.3.3)\n",
            "Requirement already satisfied: spacy<3,>=2.2.0 in /usr/local/lib/python3.7/dist-packages (from errant->gramformer==1.0) (2.3.7)\n",
            "Requirement already satisfied: rapidfuzz>=2.0.0 in /usr/local/lib/python3.7/dist-packages (from errant->gramformer==1.0) (2.0.11)\n",
            "Requirement already satisfied: jarowinkler<1.1.0,>=1.0.2 in /usr/local/lib/python3.7/dist-packages (from rapidfuzz>=2.0.0->errant->gramformer==1.0) (1.0.2)\n",
            "Requirement already satisfied: requests<3.0.0,>=2.13.0 in /usr/local/lib/python3.7/dist-packages (from spacy<3,>=2.2.0->errant->gramformer==1.0) (2.23.0)\n",
            "Requirement already satisfied: thinc<7.5.0,>=7.4.1 in /usr/local/lib/python3.7/dist-packages (from spacy<3,>=2.2.0->errant->gramformer==1.0) (7.4.5)\n",
            "Requirement already satisfied: cymem<2.1.0,>=2.0.2 in /usr/local/lib/python3.7/dist-packages (from spacy<3,>=2.2.0->errant->gramformer==1.0) (2.0.6)\n",
            "Requirement already satisfied: wasabi<1.1.0,>=0.4.0 in /usr/local/lib/python3.7/dist-packages (from spacy<3,>=2.2.0->errant->gramformer==1.0) (0.9.1)\n",
            "Requirement already satisfied: plac<1.2.0,>=0.9.6 in /usr/local/lib/python3.7/dist-packages (from spacy<3,>=2.2.0->errant->gramformer==1.0) (1.1.3)\n",
            "Requirement already satisfied: murmurhash<1.1.0,>=0.28.0 in /usr/local/lib/python3.7/dist-packages (from spacy<3,>=2.2.0->errant->gramformer==1.0) (1.0.7)\n",
            "Requirement already satisfied: preshed<3.1.0,>=3.0.2 in /usr/local/lib/python3.7/dist-packages (from spacy<3,>=2.2.0->errant->gramformer==1.0) (3.0.6)\n",
            "Requirement already satisfied: srsly<1.1.0,>=1.0.2 in /usr/local/lib/python3.7/dist-packages (from spacy<3,>=2.2.0->errant->gramformer==1.0) (1.0.5)\n",
            "Requirement already satisfied: catalogue<1.1.0,>=0.0.7 in /usr/local/lib/python3.7/dist-packages (from spacy<3,>=2.2.0->errant->gramformer==1.0) (1.0.0)\n",
            "Requirement already satisfied: blis<0.8.0,>=0.4.0 in /usr/local/lib/python3.7/dist-packages (from spacy<3,>=2.2.0->errant->gramformer==1.0) (0.7.7)\n",
            "Requirement already satisfied: tqdm<5.0.0,>=4.38.0 in /usr/local/lib/python3.7/dist-packages (from spacy<3,>=2.2.0->errant->gramformer==1.0) (4.64.0)\n",
            "Requirement already satisfied: numpy>=1.15.0 in /usr/local/lib/python3.7/dist-packages (from spacy<3,>=2.2.0->errant->gramformer==1.0) (1.21.6)\n",
            "Requirement already satisfied: setuptools in /usr/local/lib/python3.7/dist-packages (from spacy<3,>=2.2.0->errant->gramformer==1.0) (57.4.0)\n",
            "Requirement already satisfied: importlib-metadata>=0.20 in /usr/local/lib/python3.7/dist-packages (from catalogue<1.1.0,>=0.0.7->spacy<3,>=2.2.0->errant->gramformer==1.0) (4.11.4)\n",
            "Requirement already satisfied: zipp>=0.5 in /usr/local/lib/python3.7/dist-packages (from importlib-metadata>=0.20->catalogue<1.1.0,>=0.0.7->spacy<3,>=2.2.0->errant->gramformer==1.0) (3.8.0)\n",
            "Requirement already satisfied: typing-extensions>=3.6.4 in /usr/local/lib/python3.7/dist-packages (from importlib-metadata>=0.20->catalogue<1.1.0,>=0.0.7->spacy<3,>=2.2.0->errant->gramformer==1.0) (4.1.1)\n",
            "Requirement already satisfied: certifi>=2017.4.17 in /usr/local/lib/python3.7/dist-packages (from requests<3.0.0,>=2.13.0->spacy<3,>=2.2.0->errant->gramformer==1.0) (2022.6.15)\n",
            "Requirement already satisfied: chardet<4,>=3.0.2 in /usr/local/lib/python3.7/dist-packages (from requests<3.0.0,>=2.13.0->spacy<3,>=2.2.0->errant->gramformer==1.0) (3.0.4)\n",
            "Requirement already satisfied: urllib3!=1.25.0,!=1.25.1,<1.26,>=1.21.1 in /usr/local/lib/python3.7/dist-packages (from requests<3.0.0,>=2.13.0->spacy<3,>=2.2.0->errant->gramformer==1.0) (1.25.11)\n",
            "Requirement already satisfied: idna<3,>=2.5 in /usr/local/lib/python3.7/dist-packages (from requests<3.0.0,>=2.13.0->spacy<3,>=2.2.0->errant->gramformer==1.0) (2.10)\n",
            "Requirement already satisfied: pyyaml>=5.1 in /usr/local/lib/python3.7/dist-packages (from transformers->gramformer==1.0) (6.0)\n",
            "Requirement already satisfied: huggingface-hub<1.0,>=0.1.0 in /usr/local/lib/python3.7/dist-packages (from transformers->gramformer==1.0) (0.7.0)\n",
            "Requirement already satisfied: regex!=2019.12.17 in /usr/local/lib/python3.7/dist-packages (from transformers->gramformer==1.0) (2022.6.2)\n",
            "Requirement already satisfied: packaging>=20.0 in /usr/local/lib/python3.7/dist-packages (from transformers->gramformer==1.0) (21.3)\n",
            "Requirement already satisfied: filelock in /usr/local/lib/python3.7/dist-packages (from transformers->gramformer==1.0) (3.7.1)\n",
            "Requirement already satisfied: pyparsing!=3.0.5,>=2.0.2 in /usr/local/lib/python3.7/dist-packages (from packaging>=20.0->transformers->gramformer==1.0) (3.0.9)\n"
          ]
        }
      ]
    },
    {
      "cell_type": "code",
      "source": [
        "!pip install happytransformer"
      ],
      "metadata": {
        "colab": {
          "base_uri": "https://localhost:8080/"
        },
        "id": "piOi2HrtdrpN",
        "outputId": "983896c6-09a2-4170-f0d7-97bd41c8e111"
      },
      "id": "piOi2HrtdrpN",
      "execution_count": null,
      "outputs": [
        {
          "output_type": "stream",
          "name": "stdout",
          "text": [
            "Looking in indexes: https://pypi.org/simple, https://us-python.pkg.dev/colab-wheels/public/simple/\n",
            "Requirement already satisfied: happytransformer in /usr/local/lib/python3.7/dist-packages (2.4.1)\n",
            "Requirement already satisfied: datasets>=1.6.0 in /usr/local/lib/python3.7/dist-packages (from happytransformer) (2.3.2)\n",
            "Requirement already satisfied: sentencepiece in /usr/local/lib/python3.7/dist-packages (from happytransformer) (0.1.96)\n",
            "Requirement already satisfied: torch>=1.0 in /usr/local/lib/python3.7/dist-packages (from happytransformer) (1.11.0+cu113)\n",
            "Requirement already satisfied: protobuf in /usr/local/lib/python3.7/dist-packages (from happytransformer) (3.17.3)\n",
            "Requirement already satisfied: transformers>=4.4.0 in /usr/local/lib/python3.7/dist-packages (from happytransformer) (4.20.0)\n",
            "Requirement already satisfied: tqdm>=4.43 in /usr/local/lib/python3.7/dist-packages (from happytransformer) (4.64.0)\n",
            "Requirement already satisfied: fsspec[http]>=2021.05.0 in /usr/local/lib/python3.7/dist-packages (from datasets>=1.6.0->happytransformer) (2022.5.0)\n",
            "Requirement already satisfied: dill<0.3.6 in /usr/local/lib/python3.7/dist-packages (from datasets>=1.6.0->happytransformer) (0.3.5.1)\n",
            "Requirement already satisfied: pandas in /usr/local/lib/python3.7/dist-packages (from datasets>=1.6.0->happytransformer) (1.3.5)\n",
            "Requirement already satisfied: multiprocess in /usr/local/lib/python3.7/dist-packages (from datasets>=1.6.0->happytransformer) (0.70.13)\n",
            "Requirement already satisfied: numpy>=1.17 in /usr/local/lib/python3.7/dist-packages (from datasets>=1.6.0->happytransformer) (1.21.6)\n",
            "Requirement already satisfied: xxhash in /usr/local/lib/python3.7/dist-packages (from datasets>=1.6.0->happytransformer) (3.0.0)\n",
            "Requirement already satisfied: pyarrow>=6.0.0 in /usr/local/lib/python3.7/dist-packages (from datasets>=1.6.0->happytransformer) (6.0.1)\n",
            "Requirement already satisfied: requests>=2.19.0 in /usr/local/lib/python3.7/dist-packages (from datasets>=1.6.0->happytransformer) (2.23.0)\n",
            "Requirement already satisfied: huggingface-hub<1.0.0,>=0.1.0 in /usr/local/lib/python3.7/dist-packages (from datasets>=1.6.0->happytransformer) (0.7.0)\n",
            "Requirement already satisfied: importlib-metadata in /usr/local/lib/python3.7/dist-packages (from datasets>=1.6.0->happytransformer) (4.11.4)\n",
            "Requirement already satisfied: aiohttp in /usr/local/lib/python3.7/dist-packages (from datasets>=1.6.0->happytransformer) (3.8.1)\n",
            "Requirement already satisfied: packaging in /usr/local/lib/python3.7/dist-packages (from datasets>=1.6.0->happytransformer) (21.3)\n",
            "Requirement already satisfied: responses<0.19 in /usr/local/lib/python3.7/dist-packages (from datasets>=1.6.0->happytransformer) (0.18.0)\n",
            "Requirement already satisfied: filelock in /usr/local/lib/python3.7/dist-packages (from huggingface-hub<1.0.0,>=0.1.0->datasets>=1.6.0->happytransformer) (3.7.1)\n",
            "Requirement already satisfied: typing-extensions>=3.7.4.3 in /usr/local/lib/python3.7/dist-packages (from huggingface-hub<1.0.0,>=0.1.0->datasets>=1.6.0->happytransformer) (4.1.1)\n",
            "Requirement already satisfied: pyyaml>=5.1 in /usr/local/lib/python3.7/dist-packages (from huggingface-hub<1.0.0,>=0.1.0->datasets>=1.6.0->happytransformer) (6.0)\n",
            "Requirement already satisfied: pyparsing!=3.0.5,>=2.0.2 in /usr/local/lib/python3.7/dist-packages (from packaging->datasets>=1.6.0->happytransformer) (3.0.9)\n",
            "Requirement already satisfied: urllib3!=1.25.0,!=1.25.1,<1.26,>=1.21.1 in /usr/local/lib/python3.7/dist-packages (from requests>=2.19.0->datasets>=1.6.0->happytransformer) (1.25.11)\n",
            "Requirement already satisfied: chardet<4,>=3.0.2 in /usr/local/lib/python3.7/dist-packages (from requests>=2.19.0->datasets>=1.6.0->happytransformer) (3.0.4)\n",
            "Requirement already satisfied: certifi>=2017.4.17 in /usr/local/lib/python3.7/dist-packages (from requests>=2.19.0->datasets>=1.6.0->happytransformer) (2022.6.15)\n",
            "Requirement already satisfied: idna<3,>=2.5 in /usr/local/lib/python3.7/dist-packages (from requests>=2.19.0->datasets>=1.6.0->happytransformer) (2.10)\n",
            "Requirement already satisfied: tokenizers!=0.11.3,<0.13,>=0.11.1 in /usr/local/lib/python3.7/dist-packages (from transformers>=4.4.0->happytransformer) (0.12.1)\n",
            "Requirement already satisfied: regex!=2019.12.17 in /usr/local/lib/python3.7/dist-packages (from transformers>=4.4.0->happytransformer) (2022.6.2)\n",
            "Requirement already satisfied: multidict<7.0,>=4.5 in /usr/local/lib/python3.7/dist-packages (from aiohttp->datasets>=1.6.0->happytransformer) (6.0.2)\n",
            "Requirement already satisfied: yarl<2.0,>=1.0 in /usr/local/lib/python3.7/dist-packages (from aiohttp->datasets>=1.6.0->happytransformer) (1.7.2)\n",
            "Requirement already satisfied: charset-normalizer<3.0,>=2.0 in /usr/local/lib/python3.7/dist-packages (from aiohttp->datasets>=1.6.0->happytransformer) (2.0.12)\n",
            "Requirement already satisfied: aiosignal>=1.1.2 in /usr/local/lib/python3.7/dist-packages (from aiohttp->datasets>=1.6.0->happytransformer) (1.2.0)\n",
            "Requirement already satisfied: frozenlist>=1.1.1 in /usr/local/lib/python3.7/dist-packages (from aiohttp->datasets>=1.6.0->happytransformer) (1.3.0)\n",
            "Requirement already satisfied: async-timeout<5.0,>=4.0.0a3 in /usr/local/lib/python3.7/dist-packages (from aiohttp->datasets>=1.6.0->happytransformer) (4.0.2)\n",
            "Requirement already satisfied: attrs>=17.3.0 in /usr/local/lib/python3.7/dist-packages (from aiohttp->datasets>=1.6.0->happytransformer) (21.4.0)\n",
            "Requirement already satisfied: asynctest==0.13.0 in /usr/local/lib/python3.7/dist-packages (from aiohttp->datasets>=1.6.0->happytransformer) (0.13.0)\n",
            "Requirement already satisfied: zipp>=0.5 in /usr/local/lib/python3.7/dist-packages (from importlib-metadata->datasets>=1.6.0->happytransformer) (3.8.0)\n",
            "Requirement already satisfied: pytz>=2017.3 in /usr/local/lib/python3.7/dist-packages (from pandas->datasets>=1.6.0->happytransformer) (2022.1)\n",
            "Requirement already satisfied: python-dateutil>=2.7.3 in /usr/local/lib/python3.7/dist-packages (from pandas->datasets>=1.6.0->happytransformer) (2.8.2)\n",
            "Requirement already satisfied: six>=1.5 in /usr/local/lib/python3.7/dist-packages (from python-dateutil>=2.7.3->pandas->datasets>=1.6.0->happytransformer) (1.15.0)\n"
          ]
        }
      ]
    },
    {
      "cell_type": "code",
      "source": [
        "!python -m spacy download en_core_web_sm"
      ],
      "metadata": {
        "colab": {
          "base_uri": "https://localhost:8080/"
        },
        "id": "nlP2q0G0e9zS",
        "outputId": "0789a7fe-5814-490b-c90a-8dc6075ee180"
      },
      "id": "nlP2q0G0e9zS",
      "execution_count": 2,
      "outputs": [
        {
          "output_type": "stream",
          "name": "stdout",
          "text": [
            "Looking in indexes: https://pypi.org/simple, https://us-python.pkg.dev/colab-wheels/public/simple/\n",
            "Collecting en-core-web-sm==3.3.0\n",
            "  Downloading https://github.com/explosion/spacy-models/releases/download/en_core_web_sm-3.3.0/en_core_web_sm-3.3.0-py3-none-any.whl (12.8 MB)\n",
            "\u001b[K     |████████████████████████████████| 12.8 MB 7.6 MB/s \n",
            "\u001b[?25hRequirement already satisfied: spacy<3.4.0,>=3.3.0.dev0 in /usr/local/lib/python3.7/dist-packages (from en-core-web-sm==3.3.0) (3.3.1)\n",
            "Requirement already satisfied: requests<3.0.0,>=2.13.0 in /usr/local/lib/python3.7/dist-packages (from spacy<3.4.0,>=3.3.0.dev0->en-core-web-sm==3.3.0) (2.23.0)\n",
            "Requirement already satisfied: catalogue<2.1.0,>=2.0.6 in /usr/local/lib/python3.7/dist-packages (from spacy<3.4.0,>=3.3.0.dev0->en-core-web-sm==3.3.0) (2.0.7)\n",
            "Requirement already satisfied: setuptools in /usr/local/lib/python3.7/dist-packages (from spacy<3.4.0,>=3.3.0.dev0->en-core-web-sm==3.3.0) (57.4.0)\n",
            "Requirement already satisfied: tqdm<5.0.0,>=4.38.0 in /usr/local/lib/python3.7/dist-packages (from spacy<3.4.0,>=3.3.0.dev0->en-core-web-sm==3.3.0) (4.64.0)\n",
            "Requirement already satisfied: srsly<3.0.0,>=2.4.3 in /usr/local/lib/python3.7/dist-packages (from spacy<3.4.0,>=3.3.0.dev0->en-core-web-sm==3.3.0) (2.4.3)\n",
            "Requirement already satisfied: blis<0.8.0,>=0.4.0 in /usr/local/lib/python3.7/dist-packages (from spacy<3.4.0,>=3.3.0.dev0->en-core-web-sm==3.3.0) (0.7.7)\n",
            "Requirement already satisfied: murmurhash<1.1.0,>=0.28.0 in /usr/local/lib/python3.7/dist-packages (from spacy<3.4.0,>=3.3.0.dev0->en-core-web-sm==3.3.0) (1.0.7)\n",
            "Requirement already satisfied: packaging>=20.0 in /usr/local/lib/python3.7/dist-packages (from spacy<3.4.0,>=3.3.0.dev0->en-core-web-sm==3.3.0) (21.3)\n",
            "Requirement already satisfied: preshed<3.1.0,>=3.0.2 in /usr/local/lib/python3.7/dist-packages (from spacy<3.4.0,>=3.3.0.dev0->en-core-web-sm==3.3.0) (3.0.6)\n",
            "Requirement already satisfied: pydantic!=1.8,!=1.8.1,<1.9.0,>=1.7.4 in /usr/local/lib/python3.7/dist-packages (from spacy<3.4.0,>=3.3.0.dev0->en-core-web-sm==3.3.0) (1.8.2)\n",
            "Requirement already satisfied: spacy-loggers<2.0.0,>=1.0.0 in /usr/local/lib/python3.7/dist-packages (from spacy<3.4.0,>=3.3.0.dev0->en-core-web-sm==3.3.0) (1.0.2)\n",
            "Requirement already satisfied: typer<0.5.0,>=0.3.0 in /usr/local/lib/python3.7/dist-packages (from spacy<3.4.0,>=3.3.0.dev0->en-core-web-sm==3.3.0) (0.4.1)\n",
            "Requirement already satisfied: numpy>=1.15.0 in /usr/local/lib/python3.7/dist-packages (from spacy<3.4.0,>=3.3.0.dev0->en-core-web-sm==3.3.0) (1.21.6)\n",
            "Requirement already satisfied: cymem<2.1.0,>=2.0.2 in /usr/local/lib/python3.7/dist-packages (from spacy<3.4.0,>=3.3.0.dev0->en-core-web-sm==3.3.0) (2.0.6)\n",
            "Requirement already satisfied: typing-extensions<4.2.0,>=3.7.4 in /usr/local/lib/python3.7/dist-packages (from spacy<3.4.0,>=3.3.0.dev0->en-core-web-sm==3.3.0) (4.1.1)\n",
            "Requirement already satisfied: langcodes<4.0.0,>=3.2.0 in /usr/local/lib/python3.7/dist-packages (from spacy<3.4.0,>=3.3.0.dev0->en-core-web-sm==3.3.0) (3.3.0)\n",
            "Requirement already satisfied: jinja2 in /usr/local/lib/python3.7/dist-packages (from spacy<3.4.0,>=3.3.0.dev0->en-core-web-sm==3.3.0) (2.11.3)\n",
            "Requirement already satisfied: spacy-legacy<3.1.0,>=3.0.9 in /usr/local/lib/python3.7/dist-packages (from spacy<3.4.0,>=3.3.0.dev0->en-core-web-sm==3.3.0) (3.0.9)\n",
            "Requirement already satisfied: thinc<8.1.0,>=8.0.14 in /usr/local/lib/python3.7/dist-packages (from spacy<3.4.0,>=3.3.0.dev0->en-core-web-sm==3.3.0) (8.0.17)\n",
            "Requirement already satisfied: wasabi<1.1.0,>=0.9.1 in /usr/local/lib/python3.7/dist-packages (from spacy<3.4.0,>=3.3.0.dev0->en-core-web-sm==3.3.0) (0.9.1)\n",
            "Requirement already satisfied: pathy>=0.3.5 in /usr/local/lib/python3.7/dist-packages (from spacy<3.4.0,>=3.3.0.dev0->en-core-web-sm==3.3.0) (0.6.1)\n",
            "Requirement already satisfied: zipp>=0.5 in /usr/local/lib/python3.7/dist-packages (from catalogue<2.1.0,>=2.0.6->spacy<3.4.0,>=3.3.0.dev0->en-core-web-sm==3.3.0) (3.8.0)\n",
            "Requirement already satisfied: pyparsing!=3.0.5,>=2.0.2 in /usr/local/lib/python3.7/dist-packages (from packaging>=20.0->spacy<3.4.0,>=3.3.0.dev0->en-core-web-sm==3.3.0) (3.0.9)\n",
            "Requirement already satisfied: smart-open<6.0.0,>=5.0.0 in /usr/local/lib/python3.7/dist-packages (from pathy>=0.3.5->spacy<3.4.0,>=3.3.0.dev0->en-core-web-sm==3.3.0) (5.2.1)\n",
            "Requirement already satisfied: urllib3!=1.25.0,!=1.25.1,<1.26,>=1.21.1 in /usr/local/lib/python3.7/dist-packages (from requests<3.0.0,>=2.13.0->spacy<3.4.0,>=3.3.0.dev0->en-core-web-sm==3.3.0) (1.24.3)\n",
            "Requirement already satisfied: chardet<4,>=3.0.2 in /usr/local/lib/python3.7/dist-packages (from requests<3.0.0,>=2.13.0->spacy<3.4.0,>=3.3.0.dev0->en-core-web-sm==3.3.0) (3.0.4)\n",
            "Requirement already satisfied: idna<3,>=2.5 in /usr/local/lib/python3.7/dist-packages (from requests<3.0.0,>=2.13.0->spacy<3.4.0,>=3.3.0.dev0->en-core-web-sm==3.3.0) (2.10)\n",
            "Requirement already satisfied: certifi>=2017.4.17 in /usr/local/lib/python3.7/dist-packages (from requests<3.0.0,>=2.13.0->spacy<3.4.0,>=3.3.0.dev0->en-core-web-sm==3.3.0) (2022.6.15)\n",
            "Requirement already satisfied: click<9.0.0,>=7.1.1 in /usr/local/lib/python3.7/dist-packages (from typer<0.5.0,>=0.3.0->spacy<3.4.0,>=3.3.0.dev0->en-core-web-sm==3.3.0) (7.1.2)\n",
            "Requirement already satisfied: MarkupSafe>=0.23 in /usr/local/lib/python3.7/dist-packages (from jinja2->spacy<3.4.0,>=3.3.0.dev0->en-core-web-sm==3.3.0) (2.0.1)\n",
            "\u001b[38;5;2m✔ Download and installation successful\u001b[0m\n",
            "You can now load the package via spacy.load('en_core_web_sm')\n"
          ]
        }
      ]
    },
    {
      "cell_type": "markdown",
      "source": [
        "##get owl file"
      ],
      "metadata": {
        "id": "tCtdTOZOcphN"
      },
      "id": "tCtdTOZOcphN"
    },
    {
      "cell_type": "code",
      "source": [
        "import spacy\n",
        "from spacy.lang.en import English\n",
        "import networkx as nx\n",
        "import matplotlib.pyplot as plt\n",
        "from owlready2 import *\n",
        "from sklearn.feature_extraction.text import TfidfVectorizer\n",
        "from sklearn.metrics.pairwise import cosine_similarity\n",
        "import pandas as pd\n",
        "import numpy as np\n",
        "from nltk import Tree\n",
        "from nltk.parse.stanford import StanfordDependencyParser\n",
        "from googletrans import Translator, constants\n",
        "#from happytransformer import HappyTextToText\n",
        "#from fuzzywuzzy import fuzz"
      ],
      "metadata": {
        "id": "4G0doYGM9Dhd"
      },
      "id": "4G0doYGM9Dhd",
      "execution_count": 4,
      "outputs": []
    },
    {
      "cell_type": "code",
      "source": [
        "nlp = spacy.load(\"en_core_web_sm\")"
      ],
      "metadata": {
        "id": "cl8zTMdheI2d"
      },
      "id": "cl8zTMdheI2d",
      "execution_count": 5,
      "outputs": []
    },
    {
      "cell_type": "code",
      "source": [
        "all_stopwords = nlp.Defaults.stop_words"
      ],
      "metadata": {
        "id": "MalByeG_abeM"
      },
      "id": "MalByeG_abeM",
      "execution_count": 6,
      "outputs": []
    },
    {
      "cell_type": "code",
      "execution_count": 7,
      "id": "3fdd31f5",
      "metadata": {
        "id": "3fdd31f5"
      },
      "outputs": [],
      "source": [
        "per = get_ontology(\"test19.owl\").load()"
      ]
    },
    {
      "cell_type": "code",
      "execution_count": 8,
      "id": "b26504f1",
      "metadata": {
        "colab": {
          "base_uri": "https://localhost:8080/",
          "height": 36
        },
        "id": "b26504f1",
        "outputId": "732e02b8-348b-4153-8f8b-6a37c0bee93a"
      },
      "outputs": [
        {
          "output_type": "execute_result",
          "data": {
            "text/plain": [
              "'http://test.org/onto34.owl#'"
            ],
            "application/vnd.google.colaboratory.intrinsic+json": {
              "type": "string"
            }
          },
          "metadata": {},
          "execution_count": 8
        }
      ],
      "source": [
        "per.base_iri"
      ]
    },
    {
      "cell_type": "code",
      "execution_count": 9,
      "id": "1bd6f250",
      "metadata": {
        "colab": {
          "base_uri": "https://localhost:8080/"
        },
        "id": "1bd6f250",
        "outputId": "3805e72c-7efe-48cd-dba1-6278671efdc3"
      },
      "outputs": [
        {
          "output_type": "execute_result",
          "data": {
            "text/plain": [
              "[test19.Algorithm,\n",
              " test19.Task,\n",
              " test19.TaskInput,\n",
              " test19.DataSet,\n",
              " test19.Feature,\n",
              " test19.TaskOutput,\n",
              " test19.EvaluationMatric,\n",
              " test19.Limitation,\n",
              " test19.Parameter,\n",
              " test19.Layer,\n",
              " test19.HyperParameter,\n",
              " test19.Function,\n",
              " test19.Model,\n",
              " test19.OptimizationAlgorithm,\n",
              " test19.Operator]"
            ]
          },
          "metadata": {},
          "execution_count": 9
        }
      ],
      "source": [
        "list(per.classes())"
      ]
    },
    {
      "cell_type": "code",
      "execution_count": 10,
      "id": "1d899258",
      "metadata": {
        "colab": {
          "base_uri": "https://localhost:8080/"
        },
        "id": "1d899258",
        "outputId": "04f3d135-bc9b-4579-e0f8-308f4264eb76"
      },
      "outputs": [
        {
          "output_type": "execute_result",
          "data": {
            "text/plain": [
              "[test19.label,\n",
              " test19.useAlgorithm,\n",
              " test19.uses,\n",
              " test19.hasExample,\n",
              " test19.hasInput,\n",
              " test19.canGetData,\n",
              " test19.canExtract,\n",
              " test19.produce,\n",
              " test19.evaluatedBy,\n",
              " test19.sufferFrom,\n",
              " test19.solvedBy,\n",
              " test19.learns,\n",
              " test19.hasLayer,\n",
              " test19.isPartOf,\n",
              " test19.hasHyperParameter,\n",
              " test19.useFunction,\n",
              " test19.hasModel,\n",
              " test19.useOptimizer,\n",
              " test19.execute]"
            ]
          },
          "metadata": {},
          "execution_count": 10
        }
      ],
      "source": [
        "list(per.properties())"
      ]
    },
    {
      "cell_type": "code",
      "execution_count": 11,
      "id": "d5f4ea56",
      "metadata": {
        "colab": {
          "base_uri": "https://localhost:8080/"
        },
        "id": "d5f4ea56",
        "outputId": "39f76a76-ba72-40f3-8223-3ed4489e3fda"
      },
      "outputs": [
        {
          "output_type": "execute_result",
          "data": {
            "text/plain": [
              "[[test19.Algorithm, test19.useAlgorithm, test19.Algorithm],\n",
              " [test19.Task, test19.uses, test19.Algorithm],\n",
              " [test19.Algorithm, test19.hasExample, test19.Task],\n",
              " [test19.Task, test19.hasInput, test19.TaskInput],\n",
              " [test19.TaskInput, test19.canGetData, test19.DataSet],\n",
              " [test19.TaskInput, test19.canExtract, test19.Feature],\n",
              " [test19.Task, test19.produce, test19.TaskOutput],\n",
              " [test19.TaskOutput, test19.evaluatedBy, test19.EvaluationMatric],\n",
              " [test19.Algorithm, test19.sufferFrom, test19.Limitation],\n",
              " [test19.Limitation, test19.solvedBy, test19.Algorithm],\n",
              " [test19.Algorithm, test19.learns, test19.Parameter],\n",
              " [test19.Parameter, test19.learns, test19.Parameter],\n",
              " [test19.Algorithm, test19.learns, test19.Algorithm],\n",
              " [test19.Parameter, test19.learns, test19.Algorithm],\n",
              " [test19.Algorithm, test19.hasLayer, test19.Layer],\n",
              " [test19.Layer, test19.isPartOf, test19.Algorithm],\n",
              " [test19.Algorithm, test19.hasHyperParameter, test19.HyperParameter],\n",
              " [test19.Algorithm, test19.useFunction, test19.Function],\n",
              " [test19.Algorithm, test19.hasModel, test19.Model],\n",
              " [test19.Algorithm, test19.useOptimizer, test19.OptimizationAlgorithm],\n",
              " [test19.Algorithm, test19.execute, test19.Operator]]"
            ]
          },
          "metadata": {},
          "execution_count": 11
        }
      ],
      "source": [
        "list(default_world.sparql(\"\"\"SELECT ?domain ?property ?range\n",
        "WHERE{  \n",
        "       ?property rdf:type owl:ObjectProperty .\n",
        "       ?property rdfs:range ?range .\n",
        "       ?property rdfs:domain ?domain\n",
        "     }\"\"\"))"
      ]
    },
    {
      "cell_type": "code",
      "execution_count": 12,
      "id": "ed9e4090",
      "metadata": {
        "colab": {
          "base_uri": "https://localhost:8080/"
        },
        "id": "ed9e4090",
        "outputId": "1d0da82b-3af0-4667-aff2-f6856ea1d4a7"
      },
      "outputs": [
        {
          "output_type": "execute_result",
          "data": {
            "text/plain": [
              "[[test19.Algorithm],\n",
              " [test19.Task],\n",
              " [test19.TaskInput],\n",
              " [test19.DataSet],\n",
              " [test19.Feature],\n",
              " [test19.TaskOutput],\n",
              " [test19.EvaluationMatric],\n",
              " [test19.Limitation],\n",
              " [test19.Parameter],\n",
              " [test19.Layer],\n",
              " [test19.HyperParameter],\n",
              " [test19.Function],\n",
              " [test19.Model],\n",
              " [test19.OptimizationAlgorithm],\n",
              " [test19.Operator]]"
            ]
          },
          "metadata": {},
          "execution_count": 12
        }
      ],
      "source": [
        "list(default_world.sparql(\"\"\"SELECT  ?x\n",
        "WHERE { \n",
        "  ?x rdf:type owl:Class \n",
        "}\"\"\"))"
      ]
    },
    {
      "cell_type": "markdown",
      "source": [
        "##UseFunction"
      ],
      "metadata": {
        "id": "jkILkl62XUy4"
      },
      "id": "jkILkl62XUy4"
    },
    {
      "cell_type": "code",
      "execution_count": null,
      "id": "cf97bf0a",
      "metadata": {
        "id": "cf97bf0a"
      },
      "outputs": [],
      "source": [
        "savetruple =[]\n",
        "truple ={}\n",
        "def getSentences(text):\n",
        "    document = nlp(text)\n",
        "    return [str(sent).strip() for sent in document.sents]\n",
        "\n",
        "def printToken(token):\n",
        "    print(token.text, \"->\", token.dep_)\n",
        "\n",
        "def appendChunk(original, chunk):\n",
        "    return original + ' ' + chunk\n",
        "\n",
        "def isRelationCandidate(token):\n",
        "    deps = [\"ROOT\", \"adj\", \"attr\", \"agent\", \"amod\"]\n",
        "    return any(subs in token.dep_ for subs in deps)\n",
        "\n",
        "def isConstructionCandidate(token):\n",
        "    deps = [\"compound\", \"prep\", \"conj\", \"mod\"]\n",
        "    return any(subs in token.dep_ for subs in deps)\n",
        "\n",
        "def processSubjectObjectPairs(tokens):\n",
        "    subject = ''\n",
        "    objectt = ''\n",
        "    relation = ''\n",
        "    #savetruple =[]\n",
        "    #truple ={}\n",
        "    subjectConstruction = ''\n",
        "    objectConstruction = ''\n",
        "    for token in tokens:\n",
        "        #printToken(token)\n",
        "        #truple[token.text] =token.dep_\n",
        "        savetruple.append({token.text, token.dep_})\n",
        "\n",
        "        if \"punct\" in token.dep_:\n",
        "            continue\n",
        "        if isRelationCandidate(token):\n",
        "            relation = appendChunk(relation, token.lemma_)\n",
        "        if isConstructionCandidate(token):\n",
        "            if subjectConstruction:\n",
        "                subjectConstruction = appendChunk(subjectConstruction, token.text)\n",
        "            if objectConstruction:\n",
        "                objectConstruction = appendChunk(objectConstruction, token.text)\n",
        "        if \"subj\" in token.dep_:\n",
        "            subject = appendChunk(subject, token.text)\n",
        "            subject = appendChunk(subjectConstruction, subject)\n",
        "            subjectConstruction = ''\n",
        "        if \"obj\" in token.dep_:\n",
        "            objectt = appendChunk(objectt, token.text)\n",
        "            objectt = appendChunk(objectConstruction, objectt)\n",
        "            objectConstruction = ''\n",
        "    \n",
        "    #print ('subject', subject.strip())\n",
        "    #print ('relation',relation.strip())\n",
        "    #print (\"object\", objectt.strip())\n",
        "    return (subject.strip(), relation.strip(), objectt.strip())\n",
        "\n",
        "def processSubjectObjectPairs1(tokens):\n",
        "    subject = ''\n",
        "    objectt = ''\n",
        "    relation = ''\n",
        "    savetruple =[]\n",
        "    truple ={}\n",
        "    subjectConstruction = ''\n",
        "    objectConstruction = ''\n",
        "    for token in tokens:\n",
        "        #printToken(token)\n",
        "        #truple[token.text] =token.dep_\n",
        "        savetruple.append({token.text, \"->\", token.dep_})\n",
        "\n",
        "        if \"punct\" in token.dep_:\n",
        "            continue\n",
        "        if isRelationCandidate(token):\n",
        "            relation = appendChunk(relation, token.lemma_)\n",
        "        if isConstructionCandidate(token):\n",
        "            if subjectConstruction:\n",
        "                subjectConstruction = appendChunk(subjectConstruction, token.text)\n",
        "            if objectConstruction:\n",
        "                objectConstruction = appendChunk(objectConstruction, token.text)\n",
        "        if \"subj\" in token.dep_:\n",
        "            subject = appendChunk(subject, token.text)\n",
        "            subject = appendChunk(subjectConstruction, subject)\n",
        "            subjectConstruction = ''\n",
        "        if \"obj\" in token.dep_:\n",
        "            objectt = appendChunk(objectt, token.text)\n",
        "            objectt = appendChunk(objectConstruction, objectt)\n",
        "            objectConstruction = ''\n",
        "    \n",
        "    #print ('subject', subject.strip())\n",
        "    #print ('relation',relation.strip())\n",
        "    #print (\"object\", objectt.strip())\n",
        "    return (subject.strip(), relation.strip(), objectt.strip())\n",
        "\n",
        "def processSentence(sentence):\n",
        "    tokens = nlp_model(sentence)\n",
        "    print(tokens)\n",
        "    return processSubjectObjectPairs(tokens)\n",
        "\n",
        "def processSentence1(sentence):\n",
        "    tokens = nlp_model(sentence)\n",
        "    return processSubjectObjectPairs1(tokens)\n",
        "\n",
        "def printGraph(triples):\n",
        "    G = nx.Graph()\n",
        "    for triple in triples:\n",
        "        G.add_node(triple[0])\n",
        "        G.add_node(triple[1])\n",
        "        G.add_node(triple[2])\n",
        "        G.add_edge(triple[0], triple[1])\n",
        "        G.add_edge(triple[1], triple[2])\n",
        "\n",
        "    pos = nx.spring_layout(G)\n",
        "    plt.figure()\n",
        "    nx.draw(G, pos, edge_color='black', width=1, linewidths=1,\n",
        "            node_size=500, node_color='seagreen', alpha=0.9,\n",
        "            labels={node: node for node in G.nodes()})\n",
        "    plt.axis('off')\n",
        "    plt.show()"
      ]
    },
    {
      "cell_type": "code",
      "source": [
        "def remove_punctuation(tweet,work):\n",
        "    if work ==1:\n",
        "        cleaned_tweet =re.sub('[%s]' % re.escape(\"\"\"!\"#$%&'()*+,،-./:;<=>؟?@[\\]^_`{|}~|\\•|\\)|\\(\"\"\"), ' ', tweet)\n",
        "    else:\n",
        "        cleaned_tweet = tweet\n",
        "    return cleaned_tweet"
      ],
      "metadata": {
        "id": "JroQ--geuwDP"
      },
      "id": "JroQ--geuwDP",
      "execution_count": null,
      "outputs": []
    },
    {
      "cell_type": "code",
      "source": [
        "def remove_parenthesis(tweet,work):\n",
        "    if work ==1:\n",
        "        cleaned_tweet =re.sub('s/([()])//g', ' ', tweet)\n",
        "    else:\n",
        "        cleaned_tweet = tweet\n",
        "    return cleaned_tweet"
      ],
      "metadata": {
        "id": "n4qbvQ3Vuy97"
      },
      "id": "n4qbvQ3Vuy97",
      "execution_count": null,
      "outputs": []
    },
    {
      "cell_type": "code",
      "source": [
        "def getToken(tex):\n",
        "  doc = nlp(tex)\n",
        "  doc1 =\"wh\"\n",
        "  doc2 =\"Wh\"\n",
        "  doc3 =\"WH\"\n",
        "  doc4 =\"\"\n",
        "  al1 =\"algorithm\"\n",
        "  al2 =\"Algorithm\"\n",
        "  na =\"\"\n",
        "  for token in doc:\n",
        "    #if \n",
        "    if doc1  not in token.text: \n",
        "       if doc2 not in token.text:\n",
        "         if doc3 not in token.text:\n",
        "           if al1 not in token.text:\n",
        "             if al2 not in token.text:\n",
        "                 na +=\" \"+ token.text\n",
        "            #print(token.text)\n",
        "  t = remove_punctuation(na,1)\n",
        "  print(t)\n",
        "  token = remove_parenthesis(t,1)\n",
        "  print(t)\n",
        "  return token"
      ],
      "metadata": {
        "id": "TrEureSQvRkl"
      },
      "id": "TrEureSQvRkl",
      "execution_count": null,
      "outputs": []
    },
    {
      "cell_type": "code",
      "source": [
        "def getToken1(tex,sub):\n",
        "  doc = nlp(tex)\n",
        "  na =\"\"\n",
        "  text1 =\"\"\n",
        "  text2 =\"\"\n",
        "  t = 0\n",
        "  i=0\n",
        "  for token in doc:\n",
        "    if token.text ==sub:\n",
        "         t =1 \n",
        "    if t !=1:\n",
        "      text1+=token.text +\" \"\n",
        "    else:\n",
        "      if i >0:\n",
        "        text2+= token.text+ \" \"\n",
        "      i = i+1\n",
        "  return text1,text2"
      ],
      "metadata": {
        "id": "mQ3Ig4tF0JXP"
      },
      "id": "mQ3Ig4tF0JXP",
      "execution_count": null,
      "outputs": []
    },
    {
      "cell_type": "code",
      "source": [
        "def get_multitruple(triples,text1,text2):\n",
        "  triple_new = []\n",
        "  sbject1=\"\"\n",
        "  obje1 =\" \"\n",
        "  relation1 =\" \"\n",
        "\n",
        "  sbject2=\"\"\n",
        "  obje2 =\" \"\n",
        "  relation2 =\" \"\n",
        "  if triples[0]!= \" \":\n",
        "      doc1 = nlp(triples[0])\n",
        "      for token in doc1:\n",
        "         if token.text in text1:\n",
        "           obje1 =token.text\n",
        "         else:\n",
        "           obje2 =token.text\n",
        "\n",
        "  if triples[1]!= \" \":\n",
        "      doc1 = nlp(triples[1])\n",
        "      for token in doc1:\n",
        "         if token.text in text1:\n",
        "           relation1 =token.text\n",
        "         else:\n",
        "           relation2 =token.text\n",
        "\n",
        "  if triples[2]!= \" \":\n",
        "      doc1 = nlp(triples[2])\n",
        "      for token in doc1:\n",
        "        sbject1 =token.text\n",
        "        sbject2 =token.text\n",
        "        break\n",
        "         #if token.text in text1:\n",
        "          # sbject1 =token.text\n",
        "           #sbject2 =token.text\n",
        "         #else:\n",
        "          # sbject2 =token.text\n",
        "\n",
        "  triple_new.append({sbject1,relation1,obje1})\n",
        "  triple_new.append({sbject2,relation2,obje2})\n",
        "  return triple_new"
      ],
      "metadata": {
        "id": "1CY1Z-kZXIEh"
      },
      "id": "1CY1Z-kZXIEh",
      "execution_count": null,
      "outputs": []
    },
    {
      "cell_type": "code",
      "source": [
        "def get_query(trapl):\n",
        "  x = \" \"\n",
        "  y = \" \"\n",
        "  z= \"\"\n",
        "  res1 =[]\n",
        "  for x in trapl:\n",
        "    res1.append(x)\n",
        "  x=res1[0]\n",
        "  y=res1[1]\n",
        "  z=res1[2]\n",
        "  return x,y,z"
      ],
      "metadata": {
        "id": "sAM8HATdXJCe"
      },
      "id": "sAM8HATdXJCe",
      "execution_count": null,
      "outputs": []
    },
    {
      "cell_type": "code",
      "source": [
        "def get_sumilarity(string,string_list):\n",
        "  \n",
        "   tfidf_vectorizer = TfidfVectorizer(analyzer=\"char\")\n",
        "\n",
        "   sparse_matrix = tfidf_vectorizer.fit_transform([string]+string_list)\n",
        "   cosine = cosine_similarity(sparse_matrix[0,:],sparse_matrix[1:,:])\n",
        "\n",
        "   df = pd.DataFrame({'cosine':cosine[0],'strings':string_list}).sort_values('cosine',ascending=False)\n",
        "   x = df['strings'].iloc[0]\n",
        "   return x"
      ],
      "metadata": {
        "id": "hmwjkhzzYGdH"
      },
      "id": "hmwjkhzzYGdH",
      "execution_count": null,
      "outputs": []
    },
    {
      "cell_type": "code",
      "source": [
        "def Translate_Func_To_Eng(text_to_trans):\n",
        "# init the Google API translator\n",
        "    translator = Translator()\n",
        "    translations = translator.translate(text_to_trans, dest=\"en\")\n",
        "    return (translations.text)"
      ],
      "metadata": {
        "id": "SGHUF9AuXiK6"
      },
      "id": "SGHUF9AuXiK6",
      "execution_count": null,
      "outputs": []
    },
    {
      "cell_type": "code",
      "source": [
        "def translatorsearch1(query):\n",
        "\n",
        "    translator = Translator()\n",
        "    if ('\\u0600' <= query <= '\\u06FF' or\n",
        "        '\\u0750' <= query <= '\\u077F' or\n",
        "        '\\u08A0' <= query <= '\\u08FF' or\n",
        "        '\\uFB50' <= query <= '\\uFDFF' or\n",
        "        '\\uFE70' <= query <= '\\uFEFF' or\n",
        "        '\\U00010E60' <= query <= '\\U00010E7F' or\n",
        "        '\\U0001EE00' <= query <= '\\U0001EEFF'):\n",
        "              res = translator.translate(query)\n",
        "              result=res.text\n",
        "              #print('yes')\n",
        "    \n",
        "    else:\n",
        "      result = query\n",
        "\n",
        "    return result"
      ],
      "metadata": {
        "id": "UFQ33CycXmDW"
      },
      "id": "UFQ33CycXmDW",
      "execution_count": null,
      "outputs": []
    },
    {
      "cell_type": "code",
      "source": [
        "def get_list(c_list):\n",
        "  s = []\n",
        "  s1 = \"\"\n",
        "  for i in c_list:\n",
        "    s1 = i.name\n",
        "    s.append(i.name)\n",
        "  return s"
      ],
      "metadata": {
        "id": "eSWxR4OcXwNi"
      },
      "id": "eSWxR4OcXwNi",
      "execution_count": null,
      "outputs": []
    },
    {
      "cell_type": "markdown",
      "source": [
        "#get Query"
      ],
      "metadata": {
        "id": "AqIHQf2mYVq1"
      },
      "id": "AqIHQf2mYVq1"
    },
    {
      "cell_type": "code",
      "source": [
        "query1 = \"what is the exapmles of MLP \"  "
      ],
      "metadata": {
        "id": "CyWCDqsV2LGB"
      },
      "id": "CyWCDqsV2LGB",
      "execution_count": null,
      "outputs": []
    },
    {
      "cell_type": "code",
      "source": [
        "query2 = \"what is the HyperParameter of MLP\""
      ],
      "metadata": {
        "id": "UGzfu-Pv2VgH"
      },
      "id": "UGzfu-Pv2VgH",
      "execution_count": null,
      "outputs": []
    },
    {
      "cell_type": "code",
      "source": [
        "query3 = \"what is the description of MLPEarlyStop\""
      ],
      "metadata": {
        "id": "lw4-wnVk6W8F"
      },
      "id": "lw4-wnVk6W8F",
      "execution_count": null,
      "outputs": []
    },
    {
      "cell_type": "code",
      "source": [
        "query8 = \"what is the MLPEarlyStop\""
      ],
      "metadata": {
        "id": "KhfK1jNtml_R"
      },
      "id": "KhfK1jNtml_R",
      "execution_count": null,
      "outputs": []
    },
    {
      "cell_type": "code",
      "source": [
        "query4 = \"what is the Activation Function of algorithm MLP\""
      ],
      "metadata": {
        "id": "HG-1cP1XI47q"
      },
      "id": "HG-1cP1XI47q",
      "execution_count": null,
      "outputs": []
    },
    {
      "cell_type": "code",
      "source": [
        "query5 = \"what is the Layer of MLP\""
      ],
      "metadata": {
        "id": "FeuyOqvIVYWw"
      },
      "id": "FeuyOqvIVYWw",
      "execution_count": null,
      "outputs": []
    },
    {
      "cell_type": "code",
      "source": [
        "query6 = \"What are MLP examples and their input\""
      ],
      "metadata": {
        "id": "Ity6Kvk3W2hC"
      },
      "id": "Ity6Kvk3W2hC",
      "execution_count": null,
      "outputs": []
    },
    {
      "cell_type": "code",
      "source": [
        "query8 = \"the input it\""
      ],
      "metadata": {
        "id": "zLVk3CLd_-uq"
      },
      "id": "zLVk3CLd_-uq",
      "execution_count": null,
      "outputs": []
    },
    {
      "cell_type": "code",
      "source": [
        "query9 =\"ما هو وصف خوارزمية mlp\""
      ],
      "metadata": {
        "id": "8ldsXcgX6Vnc"
      },
      "id": "8ldsXcgX6Vnc",
      "execution_count": null,
      "outputs": []
    },
    {
      "cell_type": "code",
      "source": [
        "query10 =\"what is the examples of MLP and their input\""
      ],
      "metadata": {
        "id": "ipeuHR7blLdm"
      },
      "id": "ipeuHR7blLdm",
      "execution_count": null,
      "outputs": []
    },
    {
      "cell_type": "code",
      "source": [
        "query11 =\"what is the hyperparameter of mlp and function of it\""
      ],
      "metadata": {
        "id": "61OCnzoNOEI5"
      },
      "id": "61OCnzoNOEI5",
      "execution_count": null,
      "outputs": []
    },
    {
      "cell_type": "code",
      "source": [
        "query12 =\"what is hyperparameter and function of mlp\""
      ],
      "metadata": {
        "id": "kmkEqRMTnDCz"
      },
      "id": "kmkEqRMTnDCz",
      "execution_count": null,
      "outputs": []
    },
    {
      "cell_type": "code",
      "source": [
        "query=translatorsearch1(query12)"
      ],
      "metadata": {
        "id": "_Wu2b4Ee5RoF"
      },
      "id": "_Wu2b4Ee5RoF",
      "execution_count": null,
      "outputs": []
    },
    {
      "cell_type": "code",
      "source": [
        "print(query)"
      ],
      "metadata": {
        "colab": {
          "base_uri": "https://localhost:8080/"
        },
        "id": "wIWU11Nq6HIR",
        "outputId": "60aec259-07f2-4812-cb03-13376cc2d45a"
      },
      "id": "wIWU11Nq6HIR",
      "execution_count": null,
      "outputs": [
        {
          "output_type": "stream",
          "name": "stdout",
          "text": [
            "what is hyperparameter and function of mlp\n"
          ]
        }
      ]
    },
    {
      "cell_type": "code",
      "source": [
        "query =getToken(query)"
      ],
      "metadata": {
        "colab": {
          "base_uri": "https://localhost:8080/"
        },
        "id": "Zdi0eIlx4PSQ",
        "outputId": "03ac9994-9631-45bf-e361-f5e600d07b89"
      },
      "id": "Zdi0eIlx4PSQ",
      "execution_count": null,
      "outputs": [
        {
          "output_type": "stream",
          "name": "stdout",
          "text": [
            " is hyperparameter and function of mlp\n",
            " is hyperparameter and function of mlp\n"
          ]
        }
      ]
    },
    {
      "cell_type": "code",
      "source": [
        "# load nlp pipeline\n",
        "nlp = spacy.load('en_core_web_sm')\n",
        "\n",
        "# process document: incl. tokenization, pos-tagging, dependency parsing, ...\n",
        "doc = nlp(query)\n",
        "\n",
        "trap =[]\n",
        "dec ={}\n",
        "# access dependency relations\n",
        "for tok in doc:\n",
        "    dec = {tok.head, tok, tok.dep_}\n",
        "    trap.append(dec)\n",
        "    print(tok.head, tok, tok.dep_, sep=\"\\t\")\n"
      ],
      "metadata": {
        "colab": {
          "base_uri": "https://localhost:8080/"
        },
        "id": "cuWUigDVFQPg",
        "outputId": "40e42188-aa57-4fa6-dca7-25d40e9331d4"
      },
      "id": "cuWUigDVFQPg",
      "execution_count": null,
      "outputs": [
        {
          "output_type": "stream",
          "name": "stdout",
          "text": [
            "is\t \tdep\n",
            "is\tis\tROOT\n",
            "is\thyperparameter\tattr\n",
            "hyperparameter\tand\tcc\n",
            "hyperparameter\tfunction\tconj\n",
            "hyperparameter\tof\tprep\n",
            "of\tmlp\tpobj\n"
          ]
        }
      ]
    },
    {
      "cell_type": "code",
      "source": [
        "from spacy import displacy\n",
        "displacy.render(nlp(query),jupyter=True)"
      ],
      "metadata": {
        "colab": {
          "base_uri": "https://localhost:8080/",
          "height": 441
        },
        "id": "pZfg-J8DO-Vs",
        "outputId": "c83f4db5-54a5-4162-a1a7-07b3660a5713"
      },
      "id": "pZfg-J8DO-Vs",
      "execution_count": null,
      "outputs": [
        {
          "output_type": "display_data",
          "data": {
            "text/plain": [
              "<IPython.core.display.HTML object>"
            ],
            "text/html": [
              "<span class=\"tex2jax_ignore\"><svg xmlns=\"http://www.w3.org/2000/svg\" xmlns:xlink=\"http://www.w3.org/1999/xlink\" xml:lang=\"en\" id=\"828f174477544641add58f45bedce72a-0\" class=\"displacy\" width=\"1275\" height=\"399.5\" direction=\"ltr\" style=\"max-width: none; height: 399.5px; color: #000000; background: #ffffff; font-family: Arial; direction: ltr\">\n",
              "<text class=\"displacy-token\" fill=\"currentColor\" text-anchor=\"middle\" y=\"309.5\">\n",
              "    <tspan class=\"displacy-word\" fill=\"currentColor\" x=\"50\"> </tspan>\n",
              "    <tspan class=\"displacy-tag\" dy=\"2em\" fill=\"currentColor\" x=\"50\">SPACE</tspan>\n",
              "</text>\n",
              "\n",
              "<text class=\"displacy-token\" fill=\"currentColor\" text-anchor=\"middle\" y=\"309.5\">\n",
              "    <tspan class=\"displacy-word\" fill=\"currentColor\" x=\"225\">is</tspan>\n",
              "    <tspan class=\"displacy-tag\" dy=\"2em\" fill=\"currentColor\" x=\"225\">AUX</tspan>\n",
              "</text>\n",
              "\n",
              "<text class=\"displacy-token\" fill=\"currentColor\" text-anchor=\"middle\" y=\"309.5\">\n",
              "    <tspan class=\"displacy-word\" fill=\"currentColor\" x=\"400\">hyperparameter</tspan>\n",
              "    <tspan class=\"displacy-tag\" dy=\"2em\" fill=\"currentColor\" x=\"400\">NOUN</tspan>\n",
              "</text>\n",
              "\n",
              "<text class=\"displacy-token\" fill=\"currentColor\" text-anchor=\"middle\" y=\"309.5\">\n",
              "    <tspan class=\"displacy-word\" fill=\"currentColor\" x=\"575\">and</tspan>\n",
              "    <tspan class=\"displacy-tag\" dy=\"2em\" fill=\"currentColor\" x=\"575\">CCONJ</tspan>\n",
              "</text>\n",
              "\n",
              "<text class=\"displacy-token\" fill=\"currentColor\" text-anchor=\"middle\" y=\"309.5\">\n",
              "    <tspan class=\"displacy-word\" fill=\"currentColor\" x=\"750\">function</tspan>\n",
              "    <tspan class=\"displacy-tag\" dy=\"2em\" fill=\"currentColor\" x=\"750\">NOUN</tspan>\n",
              "</text>\n",
              "\n",
              "<text class=\"displacy-token\" fill=\"currentColor\" text-anchor=\"middle\" y=\"309.5\">\n",
              "    <tspan class=\"displacy-word\" fill=\"currentColor\" x=\"925\">of</tspan>\n",
              "    <tspan class=\"displacy-tag\" dy=\"2em\" fill=\"currentColor\" x=\"925\">ADP</tspan>\n",
              "</text>\n",
              "\n",
              "<text class=\"displacy-token\" fill=\"currentColor\" text-anchor=\"middle\" y=\"309.5\">\n",
              "    <tspan class=\"displacy-word\" fill=\"currentColor\" x=\"1100\">mlp</tspan>\n",
              "    <tspan class=\"displacy-tag\" dy=\"2em\" fill=\"currentColor\" x=\"1100\">PROPN</tspan>\n",
              "</text>\n",
              "\n",
              "<g class=\"displacy-arrow\">\n",
              "    <path class=\"displacy-arc\" id=\"arrow-828f174477544641add58f45bedce72a-0-0\" stroke-width=\"2px\" d=\"M70,264.5 C70,177.0 215.0,177.0 215.0,264.5\" fill=\"none\" stroke=\"currentColor\"/>\n",
              "    <text dy=\"1.25em\" style=\"font-size: 0.8em; letter-spacing: 1px\">\n",
              "        <textPath xlink:href=\"#arrow-828f174477544641add58f45bedce72a-0-0\" class=\"displacy-label\" startOffset=\"50%\" side=\"left\" fill=\"currentColor\" text-anchor=\"middle\">dep</textPath>\n",
              "    </text>\n",
              "    <path class=\"displacy-arrowhead\" d=\"M70,266.5 L62,254.5 78,254.5\" fill=\"currentColor\"/>\n",
              "</g>\n",
              "\n",
              "<g class=\"displacy-arrow\">\n",
              "    <path class=\"displacy-arc\" id=\"arrow-828f174477544641add58f45bedce72a-0-1\" stroke-width=\"2px\" d=\"M245,264.5 C245,177.0 390.0,177.0 390.0,264.5\" fill=\"none\" stroke=\"currentColor\"/>\n",
              "    <text dy=\"1.25em\" style=\"font-size: 0.8em; letter-spacing: 1px\">\n",
              "        <textPath xlink:href=\"#arrow-828f174477544641add58f45bedce72a-0-1\" class=\"displacy-label\" startOffset=\"50%\" side=\"left\" fill=\"currentColor\" text-anchor=\"middle\">attr</textPath>\n",
              "    </text>\n",
              "    <path class=\"displacy-arrowhead\" d=\"M390.0,266.5 L398.0,254.5 382.0,254.5\" fill=\"currentColor\"/>\n",
              "</g>\n",
              "\n",
              "<g class=\"displacy-arrow\">\n",
              "    <path class=\"displacy-arc\" id=\"arrow-828f174477544641add58f45bedce72a-0-2\" stroke-width=\"2px\" d=\"M420,264.5 C420,177.0 565.0,177.0 565.0,264.5\" fill=\"none\" stroke=\"currentColor\"/>\n",
              "    <text dy=\"1.25em\" style=\"font-size: 0.8em; letter-spacing: 1px\">\n",
              "        <textPath xlink:href=\"#arrow-828f174477544641add58f45bedce72a-0-2\" class=\"displacy-label\" startOffset=\"50%\" side=\"left\" fill=\"currentColor\" text-anchor=\"middle\">cc</textPath>\n",
              "    </text>\n",
              "    <path class=\"displacy-arrowhead\" d=\"M565.0,266.5 L573.0,254.5 557.0,254.5\" fill=\"currentColor\"/>\n",
              "</g>\n",
              "\n",
              "<g class=\"displacy-arrow\">\n",
              "    <path class=\"displacy-arc\" id=\"arrow-828f174477544641add58f45bedce72a-0-3\" stroke-width=\"2px\" d=\"M420,264.5 C420,89.5 745.0,89.5 745.0,264.5\" fill=\"none\" stroke=\"currentColor\"/>\n",
              "    <text dy=\"1.25em\" style=\"font-size: 0.8em; letter-spacing: 1px\">\n",
              "        <textPath xlink:href=\"#arrow-828f174477544641add58f45bedce72a-0-3\" class=\"displacy-label\" startOffset=\"50%\" side=\"left\" fill=\"currentColor\" text-anchor=\"middle\">conj</textPath>\n",
              "    </text>\n",
              "    <path class=\"displacy-arrowhead\" d=\"M745.0,266.5 L753.0,254.5 737.0,254.5\" fill=\"currentColor\"/>\n",
              "</g>\n",
              "\n",
              "<g class=\"displacy-arrow\">\n",
              "    <path class=\"displacy-arc\" id=\"arrow-828f174477544641add58f45bedce72a-0-4\" stroke-width=\"2px\" d=\"M420,264.5 C420,2.0 925.0,2.0 925.0,264.5\" fill=\"none\" stroke=\"currentColor\"/>\n",
              "    <text dy=\"1.25em\" style=\"font-size: 0.8em; letter-spacing: 1px\">\n",
              "        <textPath xlink:href=\"#arrow-828f174477544641add58f45bedce72a-0-4\" class=\"displacy-label\" startOffset=\"50%\" side=\"left\" fill=\"currentColor\" text-anchor=\"middle\">prep</textPath>\n",
              "    </text>\n",
              "    <path class=\"displacy-arrowhead\" d=\"M925.0,266.5 L933.0,254.5 917.0,254.5\" fill=\"currentColor\"/>\n",
              "</g>\n",
              "\n",
              "<g class=\"displacy-arrow\">\n",
              "    <path class=\"displacy-arc\" id=\"arrow-828f174477544641add58f45bedce72a-0-5\" stroke-width=\"2px\" d=\"M945,264.5 C945,177.0 1090.0,177.0 1090.0,264.5\" fill=\"none\" stroke=\"currentColor\"/>\n",
              "    <text dy=\"1.25em\" style=\"font-size: 0.8em; letter-spacing: 1px\">\n",
              "        <textPath xlink:href=\"#arrow-828f174477544641add58f45bedce72a-0-5\" class=\"displacy-label\" startOffset=\"50%\" side=\"left\" fill=\"currentColor\" text-anchor=\"middle\">pobj</textPath>\n",
              "    </text>\n",
              "    <path class=\"displacy-arrowhead\" d=\"M1090.0,266.5 L1098.0,254.5 1082.0,254.5\" fill=\"currentColor\"/>\n",
              "</g>\n",
              "</svg></span>"
            ]
          },
          "metadata": {}
        }
      ]
    },
    {
      "cell_type": "code",
      "source": [
        "trap"
      ],
      "metadata": {
        "colab": {
          "base_uri": "https://localhost:8080/"
        },
        "id": "6hbEVWWHpuxh",
        "outputId": "81827b6c-0129-46a6-81f7-1cdc9166c483"
      },
      "id": "6hbEVWWHpuxh",
      "execution_count": null,
      "outputs": [
        {
          "output_type": "execute_result",
          "data": {
            "text/plain": [
              "[{ , 'dep', is},\n",
              " {'ROOT', is},\n",
              " {'attr', hyperparameter, is},\n",
              " {and, 'cc', hyperparameter},\n",
              " {'conj', function, hyperparameter},\n",
              " {hyperparameter, of, 'prep'},\n",
              " {mlp, of, 'pobj'}]"
            ]
          },
          "metadata": {},
          "execution_count": 29
        }
      ]
    },
    {
      "cell_type": "code",
      "execution_count": null,
      "id": "d414f9e6",
      "metadata": {
        "id": "d414f9e6"
      },
      "outputs": [],
      "source": [
        "sentences = getSentences(query)\n",
        "nlp_model = spacy.load('en_core_web_sm')\n",
        "\n",
        "#printGraph(triples)\n"
      ]
    },
    {
      "cell_type": "code",
      "source": [
        "print(sentences)"
      ],
      "metadata": {
        "colab": {
          "base_uri": "https://localhost:8080/"
        },
        "id": "e_SD5G3FaOVq",
        "outputId": "0706d196-5ba1-4c32-8e31-bf363c871675"
      },
      "id": "e_SD5G3FaOVq",
      "execution_count": null,
      "outputs": [
        {
          "output_type": "stream",
          "name": "stdout",
          "text": [
            "['is hyperparameter and function of mlp']\n"
          ]
        }
      ]
    },
    {
      "cell_type": "code",
      "source": [
        "c1 = list(per.individuals())\n",
        "c2 = list(per.properties())"
      ],
      "metadata": {
        "id": "FtwmdEq1awV6"
      },
      "id": "FtwmdEq1awV6",
      "execution_count": null,
      "outputs": []
    },
    {
      "cell_type": "code",
      "source": [
        "print(get_list(c2))"
      ],
      "metadata": {
        "colab": {
          "base_uri": "https://localhost:8080/"
        },
        "id": "qclRxbFJa7bU",
        "outputId": "81604f9b-9440-4b95-bb85-f6c6f5bcae0b"
      },
      "id": "qclRxbFJa7bU",
      "execution_count": null,
      "outputs": [
        {
          "output_type": "stream",
          "name": "stdout",
          "text": [
            "['adjustLeraningRate', 'description', 'formula', 'isSOTA', 'isSupervised', 'label', 'lang', 'name', 'sample', 'synonym', 'type', 'actOn', 'adjustParameter', 'canExtract', 'canGetData', 'evaluatedBy', 'excutes', 'fit', 'hasExample', 'hasFormula', 'hasHyperParameter', 'hasInput', 'hasLayer', 'hasModel', 'hasNext', 'isPartOf', 'learns', 'produce', 'solvedBy', 'sufferFrom', 'train', 'useAlgoritm', 'useFunction', 'useOptimizer', 'uses']\n"
          ]
        }
      ]
    },
    {
      "cell_type": "code",
      "source": [
        "print(get_list(c1))"
      ],
      "metadata": {
        "colab": {
          "base_uri": "https://localhost:8080/"
        },
        "id": "6g8svlyba9w0",
        "outputId": "c6188d3a-d503-4e80-8d55-a98b5173c90c"
      },
      "id": "6g8svlyba9w0",
      "execution_count": null,
      "outputs": [
        {
          "output_type": "stream",
          "name": "stdout",
          "text": [
            "['Adam', 'Bias', 'BinaryClassification', 'BinaryClassificationEvaluation', 'BinaryClassificationInput', 'BinaryClassificationOutput', 'CrossEntropy', 'EarlyStop_validation_fraction', 'HingeLoss', 'HyperbolicTangentActivation', 'LeakyReLUActivation', 'LearningRate', 'LinearActivation', 'MAE', 'MLP', 'MLPEarlyStop', 'MLPFeedForward', 'MLPHeNormalInitializer', 'MLPOptimizer', 'MLPRandomInitializer', 'MLPValidator', 'MLP_BankNoteTask', 'MLP_HiddenLayer', 'MLP_InputLayer', 'MLP_OutputLayer', 'MSE', 'MaxIter', 'NonLinearData', 'Perceptron', 'PerceptronEarlyStop', 'PerceptronOptimizer', 'PerceptronRandomInitializer', 'PerceptronValidator', 'RNN', 'RandomState', 'ReLUActivation', 'RegularizationAlpha', 'RegularizationType', 'SigmoidActivation', 'SingleLayer', 'StepActivation', 'TimeSeriesProblems', 'Tolerence', 'PerceptronActivation', 'BinaryClassificationDataset', 'Weight', 'BankNotesEvaluationMetric', 'NAdam', 'SGD', 'SGDwithMomentum', 'BankNoteInput', 'BankNotesDataset', 'BankNotesOutput']\n"
          ]
        }
      ]
    },
    {
      "cell_type": "markdown",
      "source": [
        "##simple"
      ],
      "metadata": {
        "id": "ozGY9Eb5ZiK8"
      },
      "id": "ozGY9Eb5ZiK8"
    },
    {
      "cell_type": "code",
      "source": [
        "triples = []\n",
        "for sentence in sentences:\n",
        "    #subj ,rela,objec,tripl = processSentence(sentence)\n",
        "    triples.append(processSentence1(sentence))"
      ],
      "metadata": {
        "id": "5oZ6Eq6_fe2a"
      },
      "id": "5oZ6Eq6_fe2a",
      "execution_count": null,
      "outputs": []
    },
    {
      "cell_type": "code",
      "source": [
        "for x in triples:\n",
        "  print(x)"
      ],
      "metadata": {
        "colab": {
          "base_uri": "https://localhost:8080/"
        },
        "id": "3RcuiWrJfvCG",
        "outputId": "7794d829-a251-4fc8-c86b-3a369181ef2d"
      },
      "id": "3RcuiWrJfvCG",
      "execution_count": null,
      "outputs": [
        {
          "output_type": "stream",
          "name": "stdout",
          "text": [
            "('', 'be hyperparameter', 'mlp')\n"
          ]
        }
      ]
    },
    {
      "cell_type": "code",
      "source": [
        "x = \" \"\n",
        "y = \" \"\n",
        "z= \"\"\n",
        "for i in triples:\n",
        "    z =i[0]\n",
        "    x = i[1]\n",
        "    y = i[2]"
      ],
      "metadata": {
        "id": "ClMj-j-OZnWm"
      },
      "id": "ClMj-j-OZnWm",
      "execution_count": null,
      "outputs": []
    },
    {
      "cell_type": "code",
      "source": [
        "print(x,y)"
      ],
      "metadata": {
        "colab": {
          "base_uri": "https://localhost:8080/"
        },
        "id": "9z2RYQ-2al1N",
        "outputId": "389df8a2-63e7-41a1-a60f-0b48348651f3"
      },
      "id": "9z2RYQ-2al1N",
      "execution_count": null,
      "outputs": [
        {
          "output_type": "stream",
          "name": "stdout",
          "text": [
            "be hyperparameter mlp\n"
          ]
        }
      ]
    },
    {
      "cell_type": "code",
      "source": [
        "y = get_sumilarity(y,get_list(c1))"
      ],
      "metadata": {
        "id": "EObV4C_PbHId"
      },
      "id": "EObV4C_PbHId",
      "execution_count": null,
      "outputs": []
    },
    {
      "cell_type": "code",
      "source": [
        "x = get_sumilarity(x,get_list(c2))"
      ],
      "metadata": {
        "id": "d6FzhTMqbIuz"
      },
      "id": "d6FzhTMqbIuz",
      "execution_count": null,
      "outputs": []
    },
    {
      "cell_type": "code",
      "source": [
        "print(x,y)"
      ],
      "metadata": {
        "id": "nbx-7rpkbfIO",
        "colab": {
          "base_uri": "https://localhost:8080/"
        },
        "outputId": "d31e5b85-d74e-4d0c-dbf3-ee1bbc7a8859"
      },
      "id": "nbx-7rpkbfIO",
      "execution_count": null,
      "outputs": [
        {
          "output_type": "stream",
          "name": "stdout",
          "text": [
            "hasHyperParameter MLP\n"
          ]
        }
      ]
    },
    {
      "cell_type": "code",
      "source": [
        "s = []\n",
        "s1 = \"\"\n",
        "cc = list(per.properties()) \n",
        "for i in cc:\n",
        "   #print(i)\n",
        "   if not z :\n",
        "     z=z\n",
        "     #print(\"empty\")\n",
        "   else:\n",
        "       if  z in i.name:\n",
        "          print(i.name)\n",
        "          s1 = i.name\n",
        "   s.append(i.name)"
      ],
      "metadata": {
        "id": "WyyGQZmnbswU"
      },
      "id": "WyyGQZmnbswU",
      "execution_count": null,
      "outputs": []
    },
    {
      "cell_type": "code",
      "source": [
        "print(s1)"
      ],
      "metadata": {
        "id": "AR0nQ8A0bzBP",
        "colab": {
          "base_uri": "https://localhost:8080/"
        },
        "outputId": "5d1dd513-4dcd-411a-8dbd-2489a916dd04"
      },
      "id": "AR0nQ8A0bzBP",
      "execution_count": null,
      "outputs": [
        {
          "output_type": "stream",
          "name": "stdout",
          "text": [
            "\n"
          ]
        }
      ]
    },
    {
      "cell_type": "code",
      "source": [
        "if not s1:\n",
        "  x =x \n",
        "else:\n",
        "  x = s1 "
      ],
      "metadata": {
        "id": "PFawE_vPb02V"
      },
      "id": "PFawE_vPb02V",
      "execution_count": null,
      "outputs": []
    },
    {
      "cell_type": "code",
      "source": [
        "print(x)"
      ],
      "metadata": {
        "id": "FUIXucgtcBvD",
        "colab": {
          "base_uri": "https://localhost:8080/"
        },
        "outputId": "def6406b-22ff-45ce-9dda-eaea8cd5d691"
      },
      "id": "FUIXucgtcBvD",
      "execution_count": null,
      "outputs": [
        {
          "output_type": "stream",
          "name": "stdout",
          "text": [
            "hasHyperParameter\n"
          ]
        }
      ]
    },
    {
      "cell_type": "markdown",
      "source": [
        "##complex"
      ],
      "metadata": {
        "id": "Sup-1Zn0ZwSe"
      },
      "id": "Sup-1Zn0ZwSe"
    },
    {
      "cell_type": "code",
      "source": [
        "triples = []\n",
        "subj =\" \" \n",
        "rela =\" \"\n",
        "objec=\" \"\n",
        "tripl =\" \"\n",
        "print (query)\n",
        "for sentence in sentences:\n",
        "    subj ,rela,objec = processSentence(sentence)\n",
        "\n",
        "    triples.append(processSentence(sentence))\n",
        "print(tripl)"
      ],
      "metadata": {
        "colab": {
          "base_uri": "https://localhost:8080/"
        },
        "id": "fOLJeL2Ygjsl",
        "outputId": "7d77b54a-b6c5-4c3c-93eb-c898d812ae46"
      },
      "id": "fOLJeL2Ygjsl",
      "execution_count": null,
      "outputs": [
        {
          "output_type": "stream",
          "name": "stdout",
          "text": [
            " is hyperparameter and function of mlp\n",
            "is hyperparameter and function of mlp\n",
            "is hyperparameter and function of mlp\n",
            " \n"
          ]
        }
      ]
    },
    {
      "cell_type": "code",
      "source": [
        "for x in triples:\n",
        "  print(x)"
      ],
      "metadata": {
        "colab": {
          "base_uri": "https://localhost:8080/"
        },
        "id": "Y9ciZrgXgp0Y",
        "outputId": "ac1a1d53-ca1e-4367-ee5e-5f9386fd0c4e"
      },
      "id": "Y9ciZrgXgp0Y",
      "execution_count": null,
      "outputs": [
        {
          "output_type": "stream",
          "name": "stdout",
          "text": [
            "('', 'be hyperparameter', 'mlp')\n"
          ]
        }
      ]
    },
    {
      "cell_type": "code",
      "source": [
        "triples[0][2]"
      ],
      "metadata": {
        "colab": {
          "base_uri": "https://localhost:8080/",
          "height": 36
        },
        "id": "mGZAIrnHQdE0",
        "outputId": "f5f79f3f-eca2-4115-8550-e342537d24b2"
      },
      "id": "mGZAIrnHQdE0",
      "execution_count": null,
      "outputs": [
        {
          "output_type": "execute_result",
          "data": {
            "text/plain": [
              "'mlp'"
            ],
            "application/vnd.google.colaboratory.intrinsic+json": {
              "type": "string"
            }
          },
          "metadata": {},
          "execution_count": 37
        }
      ]
    },
    {
      "cell_type": "code",
      "source": [
        "type(triples[0][2])"
      ],
      "metadata": {
        "colab": {
          "base_uri": "https://localhost:8080/"
        },
        "id": "TrtaOIOsaV5E",
        "outputId": "8eec78a3-44e0-4693-d50d-1e187b802827"
      },
      "id": "TrtaOIOsaV5E",
      "execution_count": null,
      "outputs": [
        {
          "output_type": "execute_result",
          "data": {
            "text/plain": [
              "str"
            ]
          },
          "metadata": {},
          "execution_count": 38
        }
      ]
    },
    {
      "cell_type": "code",
      "source": [
        "finall =[]\n",
        "for x in trap:\n",
        "  #print(type(x))\n",
        "   doc = nlp(triples[0][2])\n",
        "   re =\"\"\n",
        "   n1 =\"\"\n",
        "   n2 =\"\"\n",
        "   resl =\"\"\n",
        "   x= list(x)\n",
        "   if len(x) <=2:\n",
        "      continue\n",
        "   else:\n",
        "      #print(x[0],x[1],x[2])\n",
        "      for token in doc:\n",
        "        #print(token.text)\n",
        "        res =token.text\n",
        "        break\n",
        "      if token.text == str(x[0]):\n",
        "        if not str(x[1]) in all_stopwords:\n",
        "          n1 = get_sumilarity(str(x[1]),get_list(c2))\n",
        "        if not str(x[2]) in all_stopwords:\n",
        "          n2 = get_sumilarity(str(x[2]),get_list(c2))\n",
        "          if n1 ==\"\":\n",
        "             resl =str(x[1])\n",
        "             #print(x[1])\n",
        "          else:\n",
        "             resl = str(x[2])\n",
        "             #print(resl)\n",
        "             #print(x[2])\n",
        "          if resl !=\" \":\n",
        "             finall.append(resl)\n",
        "      elif token.text == str(x[1]):\n",
        "           if not str(x[2]) in all_stopwords:\n",
        "              n1 = get_sumilarity(str(x[2]),get_list(c2))\n",
        "           if not str(x[0]) in all_stopwords:\n",
        "              n2 = get_sumilarity(str(x[0]),get_list(c2))\n",
        "           if n1 ==\"\":\n",
        "             resl =str(x[2])\n",
        "             #print(x[2])\n",
        "           else:\n",
        "             resl =str(x[0])\n",
        "\n",
        "           if resl !=\" \":\n",
        "             finall.append(resl)\n",
        "      else:\n",
        "          continue\n",
        "\n",
        "   \n",
        "print(finall)"
      ],
      "metadata": {
        "colab": {
          "base_uri": "https://localhost:8080/"
        },
        "id": "3Ib2pGdloDfP",
        "outputId": "e60addcb-2329-4f77-b897-8c50f10dcfda"
      },
      "id": "3Ib2pGdloDfP",
      "execution_count": null,
      "outputs": [
        {
          "output_type": "stream",
          "name": "stdout",
          "text": [
            "['of']\n"
          ]
        }
      ]
    },
    {
      "cell_type": "code",
      "source": [
        "finall =[]\n",
        "for x in trap:\n",
        "  #print(type(x))\n",
        "   doc = nlp(triples[0][1])\n",
        "   re =\"\"\n",
        "   n1 =\"\"\n",
        "   n2 =\"\"\n",
        "   resl =\"\"\n",
        "   x= list(x)\n",
        "   #print(x[0],x[1])\n",
        "   if len(x) <=2:\n",
        "      continue\n",
        "   else:\n",
        "      #print(x[0],x[1],x[2])\n",
        "      i = 0 \n",
        "      for token in doc:\n",
        "        if not token.text in all_stopwords:\n",
        "            res =token.text\n",
        "\n",
        "      if res == str(x[1]):\n",
        "        print(res)\n",
        "        if not str(x[1]) in all_stopwords:\n",
        "          n1 = get_sumilarity(str(x[1]),get_list(c1))\n",
        "        if not str(x[2]) in all_stopwords:\n",
        "          n2 = get_sumilarity(str(x[2]),get_list(c1))\n",
        "        \n",
        "          if n1 ==\"\":\n",
        "             resl =str(x[1])\n",
        "          else:\n",
        "             resl = str(x[2])\n",
        "          if resl !=\" \":\n",
        "             finall.append(resl)\n",
        "        elif res == str(x[2]):\n",
        "           if not str(x[2]) in all_stopwords:\n",
        "              n1 = get_sumilarity(str(x[2]),get_list(c1))\n",
        "           if not str(x[0]) in all_stopwords:\n",
        "              n2 = get_sumilarity(str(x[0]),get_list(c1))\n",
        "           if n1 ==\"\":\n",
        "             resl =str(x[2])\n",
        "             #print(x[2])\n",
        "           else:\n",
        "             resl =str(x[0])\n",
        "\n",
        "           if resl !=\" \":\n",
        "             finall.append(resl)\n",
        "print(n1,n2)\n",
        "   \n",
        "print(finall)"
      ],
      "metadata": {
        "colab": {
          "base_uri": "https://localhost:8080/"
        },
        "id": "uOOXMgLlPyVm",
        "outputId": "e35c4278-968b-46c4-d803-c438e0f48424"
      },
      "id": "uOOXMgLlPyVm",
      "execution_count": null,
      "outputs": [
        {
          "output_type": "stream",
          "name": "stdout",
          "text": [
            " \n",
            "[]\n"
          ]
        }
      ]
    },
    {
      "cell_type": "code",
      "source": [
        "finaltrple =[]\n",
        "finaltrple.append(triples[0][0])\n",
        "#print(finaltrple)\n",
        "\n",
        "if finall:\n",
        "  for x in finall:\n",
        "    if x !=\"\":\n",
        "    #print(triples[0][1]+\" \"+x)\n",
        "       finaltrple.append(triples[0][1]+\" \"+x)\n",
        "       break\n",
        "else:\n",
        "  for x in finall1:\n",
        "    if x !=\"\":\n",
        "    #print(triples[0][1]+\" \"+x)\n",
        "       finaltrple.append(triples[0][1]+\" \"+x)\n",
        "       break\n",
        "\n",
        "\n",
        "finaltrple.append(triples[0][2])\n",
        "print(finaltrple)   "
      ],
      "metadata": {
        "colab": {
          "base_uri": "https://localhost:8080/"
        },
        "id": "CMyFGxgWcO5y",
        "outputId": "c42f4e0f-7f22-40c2-a7ff-135780d2a0fa"
      },
      "id": "CMyFGxgWcO5y",
      "execution_count": null,
      "outputs": [
        {
          "output_type": "stream",
          "name": "stdout",
          "text": [
            "['', 'be hyperparameter function', 'mlp']\n"
          ]
        }
      ]
    },
    {
      "cell_type": "code",
      "source": [
        "text1 =\"\"\n",
        "i = 0\n",
        "for tt in savetruple:\n",
        "  x,y = tt\n",
        "  i = i+1\n",
        "  if y =='cc':\n",
        "    text1 = x\n",
        "  elif x =='cc':\n",
        "    text1 = y"
      ],
      "metadata": {
        "id": "732ShmwRsXo9"
      },
      "id": "732ShmwRsXo9",
      "execution_count": null,
      "outputs": []
    },
    {
      "cell_type": "code",
      "source": [
        "print(text1)"
      ],
      "metadata": {
        "colab": {
          "base_uri": "https://localhost:8080/"
        },
        "id": "vcyR4J65Ci0t",
        "outputId": "18ce9175-d0f8-4269-d701-6aca7d456f95"
      },
      "id": "vcyR4J65Ci0t",
      "execution_count": null,
      "outputs": [
        {
          "output_type": "stream",
          "name": "stdout",
          "text": [
            "and\n"
          ]
        }
      ]
    },
    {
      "cell_type": "code",
      "source": [
        "t1 ,t2 =getToken1(query,text1)"
      ],
      "metadata": {
        "id": "csGqh9g41HXS"
      },
      "id": "csGqh9g41HXS",
      "execution_count": null,
      "outputs": []
    },
    {
      "cell_type": "code",
      "source": [
        "print(t1)"
      ],
      "metadata": {
        "colab": {
          "base_uri": "https://localhost:8080/"
        },
        "id": "7mbugGHy2uXE",
        "outputId": "aab99bf3-fb17-4b53-c4c2-94b0abd22954"
      },
      "id": "7mbugGHy2uXE",
      "execution_count": null,
      "outputs": [
        {
          "output_type": "stream",
          "name": "stdout",
          "text": [
            "  is hyperparameter \n"
          ]
        }
      ]
    },
    {
      "cell_type": "code",
      "source": [
        "print(t2)"
      ],
      "metadata": {
        "colab": {
          "base_uri": "https://localhost:8080/"
        },
        "id": "jIDfcLj52whA",
        "outputId": "eb72b06e-128f-4aeb-a48c-7546d2657bb1"
      },
      "id": "jIDfcLj52whA",
      "execution_count": null,
      "outputs": [
        {
          "output_type": "stream",
          "name": "stdout",
          "text": [
            "function of mlp \n"
          ]
        }
      ]
    },
    {
      "cell_type": "code",
      "source": [
        "get_multi =get_multitruple(finaltrple,t1,t2)"
      ],
      "metadata": {
        "id": "MRUr0fNGJTCq"
      },
      "id": "MRUr0fNGJTCq",
      "execution_count": null,
      "outputs": []
    },
    {
      "cell_type": "code",
      "source": [
        "get_multi"
      ],
      "metadata": {
        "colab": {
          "base_uri": "https://localhost:8080/"
        },
        "id": "Wna_O0tLxtnz",
        "outputId": "d22df0b8-80f5-4a53-e8d8-345b780f6452"
      },
      "id": "Wna_O0tLxtnz",
      "execution_count": null,
      "outputs": [
        {
          "output_type": "execute_result",
          "data": {
            "text/plain": [
              "[{' ', 'hyperparameter', 'mlp'}, {' ', 'function', 'mlp'}]"
            ]
          },
          "metadata": {},
          "execution_count": 82
        }
      ]
    },
    {
      "cell_type": "code",
      "source": [
        "get_multi[1]"
      ],
      "metadata": {
        "colab": {
          "base_uri": "https://localhost:8080/"
        },
        "id": "m7G2gq7LJyrv",
        "outputId": "6343d088-0261-4c4b-bd6e-7ddc0e551683"
      },
      "id": "m7G2gq7LJyrv",
      "execution_count": null,
      "outputs": [
        {
          "output_type": "execute_result",
          "data": {
            "text/plain": [
              "{' ', 'function', 'mlp'}"
            ]
          },
          "metadata": {},
          "execution_count": 83
        }
      ]
    },
    {
      "cell_type": "code",
      "source": [
        "get_multi[0]"
      ],
      "metadata": {
        "colab": {
          "base_uri": "https://localhost:8080/"
        },
        "id": "dC0B2XsfiUuw",
        "outputId": "f444df3d-5605-4d53-d6e1-8dfb74ed85f3"
      },
      "id": "dC0B2XsfiUuw",
      "execution_count": null,
      "outputs": [
        {
          "output_type": "execute_result",
          "data": {
            "text/plain": [
              "{' ', 'hyperparameter', 'mlp'}"
            ]
          },
          "metadata": {},
          "execution_count": 84
        }
      ]
    },
    {
      "cell_type": "code",
      "source": [
        "res1 =[]\n",
        "i =0\n",
        "for x in get_multi[0]:\n",
        "    res1.append(x)"
      ],
      "metadata": {
        "id": "tIiPMAP9PN-6"
      },
      "id": "tIiPMAP9PN-6",
      "execution_count": null,
      "outputs": []
    },
    {
      "cell_type": "code",
      "source": [
        "print(res1[0])"
      ],
      "metadata": {
        "colab": {
          "base_uri": "https://localhost:8080/"
        },
        "id": "DC--jalsQGGW",
        "outputId": "5b6562a8-2eeb-4c2a-e6e3-99efd068e20a"
      },
      "id": "DC--jalsQGGW",
      "execution_count": null,
      "outputs": [
        {
          "output_type": "stream",
          "name": "stdout",
          "text": [
            "hyperparameter\n"
          ]
        }
      ]
    },
    {
      "cell_type": "code",
      "source": [
        "x = \" \"\n",
        "y = \" \"\n",
        "z= \"\"\n",
        "for i in get_multi[1]:\n",
        "    z =i\n",
        "    x = i\n",
        "    y = i"
      ],
      "metadata": {
        "id": "3LsMKs1BPCMb"
      },
      "id": "3LsMKs1BPCMb",
      "execution_count": null,
      "outputs": []
    },
    {
      "cell_type": "code",
      "source": [
        "x11,y11,z11 = get_query(get_multi[0])"
      ],
      "metadata": {
        "id": "C1Br_yB-MJw4"
      },
      "id": "C1Br_yB-MJw4",
      "execution_count": null,
      "outputs": []
    },
    {
      "cell_type": "code",
      "source": [
        "print(x11)"
      ],
      "metadata": {
        "colab": {
          "base_uri": "https://localhost:8080/"
        },
        "id": "4ziMxym4Ozwc",
        "outputId": "d4204dcf-27af-46d5-b28b-c194da927a80"
      },
      "id": "4ziMxym4Ozwc",
      "execution_count": null,
      "outputs": [
        {
          "output_type": "stream",
          "name": "stdout",
          "text": [
            "hyperparameter\n"
          ]
        }
      ]
    },
    {
      "cell_type": "code",
      "source": [
        "print(z11)"
      ],
      "metadata": {
        "colab": {
          "base_uri": "https://localhost:8080/"
        },
        "id": "1PF4z0ZP2ebx",
        "outputId": "782ee89f-46b6-4417-9807-e06d0543a6f1"
      },
      "id": "1PF4z0ZP2ebx",
      "execution_count": null,
      "outputs": [
        {
          "output_type": "stream",
          "name": "stdout",
          "text": [
            "mlp\n"
          ]
        }
      ]
    },
    {
      "cell_type": "code",
      "source": [
        "x22,y22,z22 = get_query(get_multi[1])"
      ],
      "metadata": {
        "id": "Uuhc2TP5MWhW"
      },
      "id": "Uuhc2TP5MWhW",
      "execution_count": null,
      "outputs": []
    },
    {
      "cell_type": "code",
      "source": [
        "print(x22,y22)"
      ],
      "metadata": {
        "colab": {
          "base_uri": "https://localhost:8080/"
        },
        "id": "7OARJm69O2dD",
        "outputId": "114e52a8-1e0c-4ea3-837c-daea9cf4a65a"
      },
      "id": "7OARJm69O2dD",
      "execution_count": null,
      "outputs": [
        {
          "output_type": "stream",
          "name": "stdout",
          "text": [
            "  function\n"
          ]
        }
      ]
    },
    {
      "cell_type": "code",
      "source": [
        "print(y22)"
      ],
      "metadata": {
        "colab": {
          "base_uri": "https://localhost:8080/"
        },
        "id": "YfhDnuWoRtkE",
        "outputId": "814b19b8-7f1f-49ca-a02f-0aebcfb523bb"
      },
      "id": "YfhDnuWoRtkE",
      "execution_count": null,
      "outputs": [
        {
          "output_type": "stream",
          "name": "stdout",
          "text": [
            "function\n"
          ]
        }
      ]
    },
    {
      "cell_type": "code",
      "source": [
        "print(z22)"
      ],
      "metadata": {
        "colab": {
          "base_uri": "https://localhost:8080/"
        },
        "id": "Ukn7WZHl3UzF",
        "outputId": "4db1aea9-1eba-4e2d-c86f-d95bfcfb4d8a"
      },
      "id": "Ukn7WZHl3UzF",
      "execution_count": null,
      "outputs": [
        {
          "output_type": "stream",
          "name": "stdout",
          "text": [
            "mlp\n"
          ]
        }
      ]
    },
    {
      "cell_type": "code",
      "source": [
        "y1 = get_sumilarity(z11,get_list(c1))"
      ],
      "metadata": {
        "id": "GZDuDYzENmTL"
      },
      "id": "GZDuDYzENmTL",
      "execution_count": null,
      "outputs": []
    },
    {
      "cell_type": "code",
      "source": [
        "print(y1)"
      ],
      "metadata": {
        "colab": {
          "base_uri": "https://localhost:8080/"
        },
        "id": "novzGHSAOel_",
        "outputId": "f1d81439-77a0-4c85-e4a0-b4d05f7e4eaf"
      },
      "id": "novzGHSAOel_",
      "execution_count": null,
      "outputs": [
        {
          "output_type": "stream",
          "name": "stdout",
          "text": [
            "MLP\n"
          ]
        }
      ]
    },
    {
      "cell_type": "code",
      "source": [
        "x1 = get_sumilarity(x11,get_list(c2))"
      ],
      "metadata": {
        "id": "ZZMg-z3fN2A9"
      },
      "id": "ZZMg-z3fN2A9",
      "execution_count": null,
      "outputs": []
    },
    {
      "cell_type": "code",
      "source": [
        "print(x1)"
      ],
      "metadata": {
        "colab": {
          "base_uri": "https://localhost:8080/"
        },
        "id": "vN9Kldz-Oir9",
        "outputId": "edce21d6-6d03-42fb-bd9d-4d5173d940ea"
      },
      "id": "vN9Kldz-Oir9",
      "execution_count": null,
      "outputs": [
        {
          "output_type": "stream",
          "name": "stdout",
          "text": [
            "hasHyperParameter\n"
          ]
        }
      ]
    },
    {
      "cell_type": "code",
      "source": [
        "y2 = get_sumilarity(z22,get_list(c1))"
      ],
      "metadata": {
        "id": "VF9e7ARHN63H"
      },
      "id": "VF9e7ARHN63H",
      "execution_count": null,
      "outputs": []
    },
    {
      "cell_type": "code",
      "source": [
        "print(y2)"
      ],
      "metadata": {
        "colab": {
          "base_uri": "https://localhost:8080/"
        },
        "id": "AzTZh_FUOnPT",
        "outputId": "5c84bbea-4097-441a-9b97-a6f2d121edcc"
      },
      "id": "AzTZh_FUOnPT",
      "execution_count": null,
      "outputs": [
        {
          "output_type": "stream",
          "name": "stdout",
          "text": [
            "MLP\n"
          ]
        }
      ]
    },
    {
      "cell_type": "code",
      "source": [
        "x2 = get_sumilarity(y22,get_list(c2))"
      ],
      "metadata": {
        "id": "YtFwMj0GOMRb"
      },
      "id": "YtFwMj0GOMRb",
      "execution_count": null,
      "outputs": []
    },
    {
      "cell_type": "code",
      "source": [
        "print(x2)"
      ],
      "metadata": {
        "colab": {
          "base_uri": "https://localhost:8080/"
        },
        "id": "nCa5nUzXOqsc",
        "outputId": "b4e1d4e4-845c-4d18-92ec-f7a69a9fad0f"
      },
      "id": "nCa5nUzXOqsc",
      "execution_count": null,
      "outputs": [
        {
          "output_type": "stream",
          "name": "stdout",
          "text": [
            "useFunction\n"
          ]
        }
      ]
    },
    {
      "cell_type": "markdown",
      "source": [
        "##Simple Query"
      ],
      "metadata": {
        "id": "UwbsJ5DtairD"
      },
      "id": "UwbsJ5DtairD"
    },
    {
      "cell_type": "code",
      "source": [
        "relation = x\n",
        "objec = y\n",
        "print(relation,objec)\n",
        "xx =list(default_world.sparql(f'PREFIX custom: <{per.base_iri}>'\n",
        "\"\"\"\n",
        "     SELECT ?sender ?x ?y WHERE {\n",
        "     custom:%s custom:%s ?sender .\n",
        "     ?sender custom:hasInput ?x .\n",
        "     ?sender custom:produce ?y .\n",
        "    }\n",
        "\n",
        "\"\"\"%(objec,relation)))"
      ],
      "metadata": {
        "colab": {
          "base_uri": "https://localhost:8080/"
        },
        "id": "24dU_R2-mYT-",
        "outputId": "a42b9b68-e856-495d-e279-68cb55c62fc5"
      },
      "id": "24dU_R2-mYT-",
      "execution_count": null,
      "outputs": [
        {
          "output_type": "stream",
          "name": "stdout",
          "text": [
            "hasExample MLP\n"
          ]
        }
      ]
    },
    {
      "cell_type": "code",
      "source": [
        "xx"
      ],
      "metadata": {
        "colab": {
          "base_uri": "https://localhost:8080/"
        },
        "id": "fln5XRHl_3v2",
        "outputId": "f20790e1-f65f-492a-988d-be76afe13de2"
      },
      "id": "fln5XRHl_3v2",
      "execution_count": null,
      "outputs": [
        {
          "output_type": "execute_result",
          "data": {
            "text/plain": [
              "[[perceptron.BinaryClassification, perceptron.BinaryClassificationInput],\n",
              " [perceptron.MLP_BankNoteTask, bank-notes.BankNoteInput]]"
            ]
          },
          "metadata": {},
          "execution_count": 174
        }
      ]
    },
    {
      "cell_type": "code",
      "source": [
        "x1 = list(default_world.sparql(f'PREFIX custom: <{per.base_iri}>'\n",
        "\"\"\"\n",
        "\n",
        "   SELECT ?p\n",
        "   WHERE {?p rdf:type owl:NamedIndividual\n",
        "\n",
        "}\"\"\"))"
      ],
      "metadata": {
        "id": "RgjaiVgACdqi"
      },
      "id": "RgjaiVgACdqi",
      "execution_count": null,
      "outputs": []
    },
    {
      "cell_type": "code",
      "source": [
        "for i in x1:\n",
        "  for ii in i:\n",
        "    print(type(ii))"
      ],
      "metadata": {
        "colab": {
          "base_uri": "https://localhost:8080/"
        },
        "id": "Jqej3oPOC-TU",
        "outputId": "189ab7c8-58f9-4fa6-bc13-b7d77fafc490"
      },
      "id": "Jqej3oPOC-TU",
      "execution_count": null,
      "outputs": [
        {
          "output_type": "stream",
          "name": "stdout",
          "text": [
            "perceptron.OptimizationAlgorithm\n",
            "perceptron.Parameter\n",
            "perceptron.Task\n",
            "perceptron.EvaluationMetric\n",
            "perceptron.input\n",
            "perceptron.Output\n",
            "perceptron.Function\n",
            "perceptron.HyperParameter\n",
            "perceptron.Function\n",
            "perceptron.Function\n",
            "perceptron.Function\n",
            "perceptron.HyperParameter\n",
            "perceptron.Function\n",
            "perceptron.Function\n",
            "perceptron.Algorithm\n",
            "perceptron.EarlyStop\n",
            "perceptron.FeedForward\n",
            "perceptron.Initializer\n",
            "perceptron.Optimizer\n",
            "perceptron.Initializer\n",
            "perceptron.Validator\n",
            "perceptron.Task\n",
            "perceptron.Layer\n",
            "perceptron.Layer\n",
            "perceptron.Layer\n",
            "perceptron.Function\n",
            "perceptron.HyperParameter\n",
            "perceptron.Limitation\n",
            "perceptron.Algorithm\n",
            "perceptron.EarlyStop\n",
            "perceptron.Optimizer\n",
            "perceptron.Initializer\n",
            "perceptron.Validator\n",
            "perceptron.Algorithm\n",
            "perceptron.HyperParameter\n",
            "perceptron.Function\n",
            "perceptron.HyperParameter\n",
            "perceptron.HyperParameter\n",
            "perceptron.Function\n",
            "perceptron.Layer\n",
            "perceptron.Function\n",
            "perceptron.Limitation\n",
            "perceptron.HyperParameter\n",
            "perceptron.FeedForward\n",
            "perceptron.Dataset\n",
            "perceptron.Parameter\n",
            "perceptron.EvaluationMetric\n",
            "perceptron.OptimizationAlgorithm\n",
            "perceptron.OptimizationAlgorithm\n",
            "perceptron.OptimizationAlgorithm\n",
            "perceptron.input\n",
            "perceptron.Dataset\n",
            "perceptron.Output\n"
          ]
        }
      ]
    },
    {
      "cell_type": "code",
      "source": [
        "relation = x\n",
        "objec = y\n",
        "print(relation,objec)\n",
        "xx =list(default_world.sparql(f'PREFIX custom: <{per.base_iri}>'\n",
        "\"\"\"\n",
        "    SELECT ?sender WHERE {\n",
        "     custom:%s custom:%s ?sender .\n",
        "    }\n",
        "\n",
        "\"\"\"%(objec,relation)))"
      ],
      "metadata": {
        "colab": {
          "base_uri": "https://localhost:8080/"
        },
        "id": "CWrPkR-rs9m6",
        "outputId": "84b37730-772c-4c96-ea98-92ab2825ea97"
      },
      "id": "CWrPkR-rs9m6",
      "execution_count": null,
      "outputs": [
        {
          "output_type": "stream",
          "name": "stdout",
          "text": [
            "description MLPEarlyStop\n"
          ]
        }
      ]
    },
    {
      "cell_type": "code",
      "source": [
        "xx"
      ],
      "metadata": {
        "colab": {
          "base_uri": "https://localhost:8080/"
        },
        "id": "zRy3tOEh52TT",
        "outputId": "cf9e5c25-1e36-4897-e76f-edd38fc483e2"
      },
      "id": "zRy3tOEh52TT",
      "execution_count": null,
      "outputs": [
        {
          "output_type": "execute_result",
          "data": {
            "text/plain": [
              "[[\"It's an option to stop the traning of model after evaluationg it to avoid over fitting, or when the model performance stop increasing\"],\n",
              " ['إنه خيار لإيقاف تدريب النموذج بعد تقييمه لتجنب الإفراط في الملاءمة ، أو عندما يتوقف أداء النموذج عن الزيادة']]"
            ]
          },
          "metadata": {},
          "execution_count": 39
        }
      ]
    },
    {
      "cell_type": "code",
      "source": [
        "relation = x\n",
        "objec = y\n",
        "# print(relation,objec)\n",
        "list(default_world.sparql(f'PREFIX custom: <{per.base_iri}>'\n",
        "\"\"\"\n",
        "    SELECT ?sender ?x ?y ?z ?d WHERE {\n",
        "     custom:%s custom:%s ?sender .\n",
        "     ?sender custom:hasInput ?x .\n",
        "     ?sender custom:produce ?y .\n",
        "     ?x custom:canGetData ?z.\n",
        "     ?y custom:evaluatedBy ?d.\n",
        "    }\n",
        "\n",
        "\"\"\"%(objec,relation)))"
      ],
      "metadata": {
        "colab": {
          "base_uri": "https://localhost:8080/"
        },
        "id": "1YNjUyQK56e5",
        "outputId": "f18f5cc8-2395-4f3f-a03c-1d36cfd1cab5"
      },
      "id": "1YNjUyQK56e5",
      "execution_count": null,
      "outputs": [
        {
          "output_type": "execute_result",
          "data": {
            "text/plain": [
              "[[perceptron.BinaryClassification,\n",
              "  perceptron.BinaryClassificationInput,\n",
              "  perceptron.BinaryClassificationOutput,\n",
              "  Connectionist+Bench+(Sonar,+Mines+vs.+Rocks).BinaryClassificationDataset,\n",
              "  perceptron.BinaryClassificationOutput],\n",
              " [perceptron.MLP_BankNoteTask,\n",
              "  bank-notes.BankNoteInput,\n",
              "  bank-notes.BankNotesOutput,\n",
              "  bank-notes.BankNotesDataset,\n",
              "  neural-network-tutorial-2a46b22394c9.BankNotesEvaluationMetric]]"
            ]
          },
          "metadata": {},
          "execution_count": 54
        }
      ]
    },
    {
      "cell_type": "code",
      "source": [
        "relation = 'hasHyperParameter'\n",
        "objec ='Perceptron'\n",
        "list(default_world.sparql(f'PREFIX custom: <{per.base_iri}>'\n",
        "\"\"\"\n",
        "    SELECT ?sender WHERE {\n",
        "     custom:%s custom:%s ?sender .\n",
        "    }\n",
        "\n",
        "\"\"\"%(objec,relation)))"
      ],
      "metadata": {
        "colab": {
          "base_uri": "https://localhost:8080/"
        },
        "id": "Yd34nmrg4ee0",
        "outputId": "543f099a-d489-4c54-95a9-cd64a1b5a4e5"
      },
      "id": "Yd34nmrg4ee0",
      "execution_count": null,
      "outputs": [
        {
          "output_type": "execute_result",
          "data": {
            "text/plain": [
              "[[perceptron.LearningRate], [perceptron.MaxIter], [perceptron.Tolerence]]"
            ]
          },
          "metadata": {},
          "execution_count": 67
        }
      ]
    },
    {
      "cell_type": "code",
      "source": [
        "relation = 'hasHyperParameter'\n",
        "objec ='Perceptron'\n",
        "list(default_world.sparql(f'PREFIX custom: <{per.base_iri}>'\n",
        "\"\"\"\n",
        "    SELECT ?sender ?relation WHERE {\n",
        "     custom:%s ?relation ?sender .\n",
        "    }\n",
        "\n",
        "\"\"\"%(objec)))"
      ],
      "metadata": {
        "colab": {
          "base_uri": "https://localhost:8080/"
        },
        "id": "TGLshTvT4jhc",
        "outputId": "5ceba328-e8a9-4404-c1b9-9546e60fc62c"
      },
      "id": "TGLshTvT4jhc",
      "execution_count": null,
      "outputs": [
        {
          "output_type": "execute_result",
          "data": {
            "text/plain": [
              "[[owl.NamedIndividual, 6],\n",
              " [perceptron.Algorithm, 6],\n",
              " [perceptron.PerceptronRandomInitializer, perceptron.excutes],\n",
              " [perceptron.BinaryClassification, perceptron.hasExample],\n",
              " [perceptron.LearningRate, perceptron.hasHyperParameter],\n",
              " [perceptron.MaxIter, perceptron.hasHyperParameter],\n",
              " [perceptron.Tolerence, perceptron.hasHyperParameter],\n",
              " [perceptron.SingleLayer, perceptron.hasLayer],\n",
              " [perceptron.Bias, perceptron.learns],\n",
              " [weights-and-biases.Weight, perceptron.learns],\n",
              " [perceptron.NonLinearData, perceptron.sufferFrom],\n",
              " [perceptron.HingeLoss, perceptron.useFunction],\n",
              " [perceptron.LeakyReLUActivation, perceptron.useFunction],\n",
              " [perceptron.LinearActivation, perceptron.useFunction],\n",
              " [perceptron.ReLUActivation, perceptron.useFunction],\n",
              " [perceptron.StepActivation, perceptron.useFunction],\n",
              " [.SGD, perceptron.useOptimizer],\n",
              " [.SGDwithMomentum, perceptron.useOptimizer],\n",
              " [True, perceptron.isSupervised],\n",
              " ['perceptron', perceptron.name],\n",
              " ['activation', perceptron.synonym],\n",
              " ['neuron', perceptron.synonym]]"
            ]
          },
          "metadata": {},
          "execution_count": 68
        }
      ]
    },
    {
      "cell_type": "code",
      "source": [
        "subject =y\n",
        "relation = x\n",
        "list(default_world.sparql(f'PREFIX custom: <{per.base_iri}>'\n",
        "\"\"\"\n",
        "    SELECT ?x\n",
        "    { custom:%s custom:%s ?x .\n",
        "    ?x custom:type \"Activation Function\" }\n",
        "\"\"\" % (subject, relation)\n",
        "))"
      ],
      "metadata": {
        "colab": {
          "base_uri": "https://localhost:8080/"
        },
        "id": "ywO5oRlHKQDy",
        "outputId": "37abcb78-7e32-41e8-c206-eca88375d41d"
      },
      "id": "ywO5oRlHKQDy",
      "execution_count": null,
      "outputs": [
        {
          "output_type": "execute_result",
          "data": {
            "text/plain": [
              "[[perceptron.LeakyReLUActivation],\n",
              " [perceptron.LinearActivation],\n",
              " [perceptron.ReLUActivation],\n",
              " [perceptron.StepActivation]]"
            ]
          },
          "metadata": {},
          "execution_count": 67
        }
      ]
    },
    {
      "cell_type": "code",
      "source": [
        "relation = x\n",
        "objec = y\n",
        "xx =list(default_world.sparql(f'PREFIX custom: <{per.base_iri}>'\n",
        "\"\"\"\n",
        "    SELECT ?sender WHERE {\n",
        "     custom:%s custom:%s ?sender .\n",
        "    }\n",
        "\n",
        "\"\"\"%(objec,relation)))"
      ],
      "metadata": {
        "id": "MYkdo59X4vvS"
      },
      "id": "MYkdo59X4vvS",
      "execution_count": null,
      "outputs": []
    },
    {
      "cell_type": "code",
      "source": [
        "xx"
      ],
      "metadata": {
        "colab": {
          "base_uri": "https://localhost:8080/"
        },
        "id": "EdOMJSeWPCfu",
        "outputId": "7cb52c72-5e47-4e4b-f769-c4537725e0d5"
      },
      "id": "EdOMJSeWPCfu",
      "execution_count": null,
      "outputs": [
        {
          "output_type": "execute_result",
          "data": {
            "text/plain": [
              "[[perceptron.LearningRate],\n",
              " [perceptron.MaxIter],\n",
              " [perceptron.RegularizationAlpha],\n",
              " [perceptron.RegularizationType],\n",
              " [perceptron.Tolerence]]"
            ]
          },
          "metadata": {},
          "execution_count": 77
        }
      ]
    },
    {
      "cell_type": "code",
      "source": [
        "s = []\n",
        "ss =' and '\n",
        "for i in xx:\n",
        "    for z in i:\n",
        "        s.append(z.name)\n",
        "\n",
        "mylist = list(dict.fromkeys(s))\n",
        "ss = ss.join(mylist)\n",
        "su = objec\n",
        "re = relation\n",
        "q = \"the \" + su + \" \" + re + \" its \"+ ss\n",
        "print(q)"
      ],
      "metadata": {
        "colab": {
          "base_uri": "https://localhost:8080/"
        },
        "id": "1OPIZeAu40QJ",
        "outputId": "3e767614-23a5-4d58-b81d-e850aa2bae79"
      },
      "id": "1OPIZeAu40QJ",
      "execution_count": null,
      "outputs": [
        {
          "output_type": "stream",
          "name": "stdout",
          "text": [
            "the MLP hasHyperParameter its LearningRate and MaxIter and RegularizationAlpha and RegularizationType and Tolerence\n"
          ]
        }
      ]
    },
    {
      "cell_type": "markdown",
      "source": [
        "##complex Query"
      ],
      "metadata": {
        "id": "It_3qruyb0Kc"
      },
      "id": "It_3qruyb0Kc"
    },
    {
      "cell_type": "code",
      "source": [
        "happy_tt = HappyTextToText(\"T5\",  \"prithivida/grammar_error_correcter_v1\")"
      ],
      "metadata": {
        "colab": {
          "base_uri": "https://localhost:8080/",
          "height": 209,
          "referenced_widgets": [
            "f0beffff001843d6a8c2b6d2d2da28d5",
            "20346342e4434bc193b5fbded573fd8c",
            "489084318ac74ae484130379a631bb80",
            "b54e3c489c294fe19707b37268b2140e",
            "3ed695c457d4449a9ede50057b346513",
            "ea4d8e46f0d84e989624d375744d9691",
            "c24a0009048d41268ec7f3a8c9ccbd42",
            "677cd5f5deff4a1caedfdd72185627cd",
            "1db736bf26a54aa7a43618996a008ac0",
            "f2a3ab40d690403e88c890e27930b3ee",
            "8318c67050784291bfc3d8c2cfb09b46",
            "8d93081f6a964218b8e14a7d0b4454ab",
            "dd44d16885e542319da4da478c52a4b6",
            "eaa1889b9580467ca32547304707afea",
            "142d17c1c8a34bc2bf1ecf44189e402a",
            "c80a2138458e4a88bfba361518959072",
            "183d9b34a0cc4f81a89276888f9c1c31",
            "3a0341cabe1549dfb82cddf344114609",
            "f10e96a606af460c9d3090e0e7f9cb2c",
            "5ba8dad51f584adbb1d4cbd759c0c79c",
            "18b558d6556f4f29bd94880799ca207a",
            "6dc830f6a5614deca6a5e0bd93f52529",
            "551be87013ca471aa00c9ae5716c6dce",
            "fa46279499d34d21b54be504463813cf",
            "0451c3e8e3da4d9388efa03993be2ca7",
            "54fd7c4659c84be283528054fb163a5c",
            "549396dfe04d4f6d8d9575196b2adb81",
            "db5ee94800f74bf793f378704753891e",
            "febf3feca3be41bbb55a65b765dd26fc",
            "0ee01f578fbc466cb54552390994f168",
            "123255a8672a4bfc98a55e9452119b4d",
            "a1ff147ad8174f5db765d625a3dc72ee",
            "157499dd680b44e5931322da17cc49b0",
            "721ae11ede4d4b9898a77bf2a7382c46",
            "7bd0fd7ec6d24355922ba53573b3b401",
            "a7888b56cf5c4ff1abb61e6a839fbe9d",
            "a57dab7b9be34fd9b38c1c095c10afe2",
            "3219fc4b19d34f77846beb561e6ba6a3",
            "c6e98241879c4b11840b5eabbab054b3",
            "ae3b689ca5464288b4c2f492cd41995b",
            "55559198e6634d2083be17abdba8b639",
            "0266483687ac42d98c3211482a04e8d7",
            "e8e8a206cb464b68b734b56bbbbc1e0c",
            "f3efc3e814b5481a9ae1fc64cd067c4a",
            "10fb6940d1d74d7a9fe41395d771abd6",
            "77b95056a01247b9aec769a94bbf0e5a",
            "3143f9bf864e415ca04d924a6793fd32",
            "a6c6731fb9404c28869aa502ccaf77e2",
            "915435fad4c146a59ca475048e04c292",
            "29f6a6932aa644d9b3c0e07cfded938a",
            "5f3d993a8062498ca8701f36c6ca957f",
            "35965fef2bc249e3b40666c6d977c443",
            "15c637916fc84714b70ee5f319e3b4eb",
            "c2be9ff669974c0c9db5e43e3aede3ad",
            "be3985c9e27b4f5193c51bdf2a373e98",
            "4d3aa3c903f24e8ca8fc430e0e5cc031",
            "d95b3474410a4233b240df3d662df1b7",
            "c356abbb1e1b43f5b23fa9151157c433",
            "75bc5d204dbe4caeb61ecc08bd9f3593",
            "3f2691205e75431fac80fe9e65a4ebdd",
            "a12349b69ee54eb68f22b1d3aac89ff5",
            "1355163f435848b6ab5d6863bf41bdfc",
            "aa44cd8ac96f42a8b658c275296681bd",
            "926262bce9094a3fb364a1ce40901179",
            "07b09fe0869d43ffab8fe66b30c07d30",
            "ba1f871cfa6546b9a884def19bcac106"
          ]
        },
        "id": "qupQlCs6cAQR",
        "outputId": "f048759a-9282-4e30-95eb-272e867a83ac"
      },
      "id": "qupQlCs6cAQR",
      "execution_count": null,
      "outputs": [
        {
          "output_type": "display_data",
          "data": {
            "text/plain": [
              "Downloading:   0%|          | 0.00/1.36k [00:00<?, ?B/s]"
            ],
            "application/vnd.jupyter.widget-view+json": {
              "version_major": 2,
              "version_minor": 0,
              "model_id": "f0beffff001843d6a8c2b6d2d2da28d5"
            }
          },
          "metadata": {}
        },
        {
          "output_type": "display_data",
          "data": {
            "text/plain": [
              "Downloading:   0%|          | 0.00/850M [00:00<?, ?B/s]"
            ],
            "application/vnd.jupyter.widget-view+json": {
              "version_major": 2,
              "version_minor": 0,
              "model_id": "8d93081f6a964218b8e14a7d0b4454ab"
            }
          },
          "metadata": {}
        },
        {
          "output_type": "display_data",
          "data": {
            "text/plain": [
              "Downloading:   0%|          | 0.00/1.84k [00:00<?, ?B/s]"
            ],
            "application/vnd.jupyter.widget-view+json": {
              "version_major": 2,
              "version_minor": 0,
              "model_id": "551be87013ca471aa00c9ae5716c6dce"
            }
          },
          "metadata": {}
        },
        {
          "output_type": "display_data",
          "data": {
            "text/plain": [
              "Downloading:   0%|          | 0.00/773k [00:00<?, ?B/s]"
            ],
            "application/vnd.jupyter.widget-view+json": {
              "version_major": 2,
              "version_minor": 0,
              "model_id": "721ae11ede4d4b9898a77bf2a7382c46"
            }
          },
          "metadata": {}
        },
        {
          "output_type": "display_data",
          "data": {
            "text/plain": [
              "Downloading:   0%|          | 0.00/1.32M [00:00<?, ?B/s]"
            ],
            "application/vnd.jupyter.widget-view+json": {
              "version_major": 2,
              "version_minor": 0,
              "model_id": "10fb6940d1d74d7a9fe41395d771abd6"
            }
          },
          "metadata": {}
        },
        {
          "output_type": "display_data",
          "data": {
            "text/plain": [
              "Downloading:   0%|          | 0.00/1.74k [00:00<?, ?B/s]"
            ],
            "application/vnd.jupyter.widget-view+json": {
              "version_major": 2,
              "version_minor": 0,
              "model_id": "4d3aa3c903f24e8ca8fc430e0e5cc031"
            }
          },
          "metadata": {}
        }
      ]
    },
    {
      "cell_type": "code",
      "source": [
        "text =\"what is the examples of MLP and their input\"\n",
        "\n",
        "result = happy_tt.generate_text(\"gec: \" +text)\n",
        "\n",
        "print(result.text)"
      ],
      "metadata": {
        "colab": {
          "base_uri": "https://localhost:8080/"
        },
        "id": "2no07F_zfKoD",
        "outputId": "69e9694b-5c70-44de-c6fc-cb8cbba753f4"
      },
      "id": "2no07F_zfKoD",
      "execution_count": null,
      "outputs": [
        {
          "output_type": "stream",
          "name": "stdout",
          "text": [
            "what are the examples of MLP and their input?\n"
          ]
        }
      ]
    },
    {
      "cell_type": "code",
      "source": [
        "relation1 = x1\n",
        "objec1 = y1\n",
        "relation2 = x2\n",
        "objec2 = y2\n",
        "\n",
        "print(relation1,objec1)\n",
        "print(relation2,objec2)\n",
        "xx =list(default_world.sparql(f'PREFIX custom: <{per.base_iri}>'\n",
        "\"\"\"\n",
        "     SELECT ?sender ?x WHERE {\n",
        "     custom:%s custom:%s ?sender .\n",
        "     custom:%s custom:%s ?x .\n",
        "     ?x custom:type \"Activation Function\"\n",
        "    }\n",
        "\n",
        "\"\"\"%(objec1,relation1,objec2,relation2)))"
      ],
      "metadata": {
        "colab": {
          "base_uri": "https://localhost:8080/"
        },
        "id": "QArGAjxzjyR3",
        "outputId": "5ca71e5b-0b14-4c82-f93a-ce20019a0ff3"
      },
      "id": "QArGAjxzjyR3",
      "execution_count": null,
      "outputs": [
        {
          "output_type": "stream",
          "name": "stdout",
          "text": [
            "hasHyperParameter MLP\n",
            "useFunction MLP\n"
          ]
        }
      ]
    },
    {
      "cell_type": "code",
      "source": [
        "print(xx)"
      ],
      "metadata": {
        "colab": {
          "base_uri": "https://localhost:8080/"
        },
        "id": "Ej1iRxc3kDW-",
        "outputId": "ac7a7707-f897-445a-f68f-a3d90c9c095e"
      },
      "id": "Ej1iRxc3kDW-",
      "execution_count": null,
      "outputs": [
        {
          "output_type": "stream",
          "name": "stdout",
          "text": [
            "[[perceptron.LearningRate, perceptron.LeakyReLUActivation], [perceptron.LearningRate, perceptron.LinearActivation], [perceptron.LearningRate, perceptron.ReLUActivation], [perceptron.LearningRate, perceptron.StepActivation], [perceptron.MaxIter, perceptron.LeakyReLUActivation], [perceptron.MaxIter, perceptron.LinearActivation], [perceptron.MaxIter, perceptron.ReLUActivation], [perceptron.MaxIter, perceptron.StepActivation], [perceptron.RegularizationAlpha, perceptron.LeakyReLUActivation], [perceptron.RegularizationAlpha, perceptron.LinearActivation], [perceptron.RegularizationAlpha, perceptron.ReLUActivation], [perceptron.RegularizationAlpha, perceptron.StepActivation], [perceptron.RegularizationType, perceptron.LeakyReLUActivation], [perceptron.RegularizationType, perceptron.LinearActivation], [perceptron.RegularizationType, perceptron.ReLUActivation], [perceptron.RegularizationType, perceptron.StepActivation], [perceptron.Tolerence, perceptron.LeakyReLUActivation], [perceptron.Tolerence, perceptron.LinearActivation], [perceptron.Tolerence, perceptron.ReLUActivation], [perceptron.Tolerence, perceptron.StepActivation]]\n"
          ]
        }
      ]
    },
    {
      "cell_type": "code",
      "source": [
        "relation1 = x1\n",
        "objec1 = y1\n",
        "relation2 = x2\n",
        "objec2 = y2\n",
        "\n",
        "print(relation1,objec1)\n",
        "print(relation2,objec2)\n",
        "xx =list(default_world.sparql(f'PREFIX custom: <{per.base_iri}>'\n",
        "\"\"\"\n",
        "     SELECT ?sender ?x WHERE {\n",
        "     custom:%s custom:%s ?sender .\n",
        "     ?sender custom:%s ?x .\n",
        "    }\n",
        "\n",
        "\"\"\"%(objec1,relation1,relation2)))"
      ],
      "metadata": {
        "colab": {
          "base_uri": "https://localhost:8080/"
        },
        "id": "UQLtBF14TFiS",
        "outputId": "b0887b16-7fcc-4072-bb43-3e06c95f43f4"
      },
      "id": "UQLtBF14TFiS",
      "execution_count": null,
      "outputs": [
        {
          "output_type": "stream",
          "name": "stdout",
          "text": [
            "hasExample MLP\n",
            "hasInput MLP\n"
          ]
        }
      ]
    },
    {
      "cell_type": "code",
      "source": [
        "xx"
      ],
      "metadata": {
        "colab": {
          "base_uri": "https://localhost:8080/"
        },
        "id": "wz-86gUWTiTK",
        "outputId": "d41572cf-b8af-4151-cfdf-ea3284dc53c1"
      },
      "id": "wz-86gUWTiTK",
      "execution_count": null,
      "outputs": [
        {
          "output_type": "execute_result",
          "data": {
            "text/plain": [
              "[[perceptron.BinaryClassification, perceptron.BinaryClassificationInput],\n",
              " [perceptron.MLP_BankNoteTask, bank-notes.BankNoteInput]]"
            ]
          },
          "metadata": {},
          "execution_count": 172
        }
      ]
    },
    {
      "cell_type": "markdown",
      "source": [
        "#start"
      ],
      "metadata": {
        "id": "04ad-EzC4oT_"
      },
      "id": "04ad-EzC4oT_"
    },
    {
      "cell_type": "code",
      "source": [
        "relation = 'hasLayer'\n",
        "objec ='algorithm14'\n",
        "list(default_world.sparql(\n",
        "\"\"\"\n",
        "    PREFIX custom:  <http://test.org/onto24.owl#>\n",
        "    SELECT ?sender WHERE {\n",
        "     custom:%s custom:%s ?sender .\n",
        "    }\n",
        "\n",
        "\"\"\"%(objec,relation)))"
      ],
      "metadata": {
        "colab": {
          "base_uri": "https://localhost:8080/"
        },
        "id": "CNmUswjoy7qm",
        "outputId": "a9967bd5-8c1a-4972-d97b-0805fd37c484"
      },
      "id": "CNmUswjoy7qm",
      "execution_count": null,
      "outputs": [
        {
          "output_type": "execute_result",
          "data": {
            "text/plain": [
              "[]"
            ]
          },
          "metadata": {},
          "execution_count": 21
        }
      ]
    },
    {
      "cell_type": "code",
      "source": [
        "list(default_world.sparql(\"\"\"\n",
        "    PREFIX custom:  <http://test.org/onto24.owl#>\n",
        "    SELECT ?x ?sender\n",
        "    { ?x a test10:Algorithm . ?x rdfs:label \"FasterRCNN\".\n",
        "     ?x test10:hasLayer ?sender  }\n",
        "     \n",
        "    \"\"\"))"
      ],
      "metadata": {
        "colab": {
          "base_uri": "https://localhost:8080/"
        },
        "id": "DnmFnqrVeKpf",
        "outputId": "9567de0e-82fe-463b-a965-b1e08184e399"
      },
      "id": "DnmFnqrVeKpf",
      "execution_count": null,
      "outputs": [
        {
          "output_type": "execute_result",
          "data": {
            "text/plain": [
              "[]"
            ]
          },
          "metadata": {},
          "execution_count": 52
        }
      ]
    },
    {
      "cell_type": "code",
      "source": [
        "relation = 'hasHyperParameter'\n",
        "objec ='algorithm19'\n",
        "list(default_world.sparql(\n",
        "\"\"\"\n",
        "    PREFIX custom:  <http://test.org/onto14.owl#>\n",
        "    SELECT ?sender WHERE {\n",
        "     custom:%s custom:%s ?sender .\n",
        "    }\n",
        "\n",
        "\"\"\"%(objec,relation)))"
      ],
      "metadata": {
        "colab": {
          "base_uri": "https://localhost:8080/"
        },
        "id": "m5y5iiIGkZ-s",
        "outputId": "0c55dacf-98d3-43b4-b727-34ab6d723792"
      },
      "id": "m5y5iiIGkZ-s",
      "execution_count": null,
      "outputs": [
        {
          "output_type": "execute_result",
          "data": {
            "text/plain": [
              "[]"
            ]
          },
          "metadata": {},
          "execution_count": 18
        }
      ]
    },
    {
      "cell_type": "code",
      "source": [
        "list(default_world.sparql(\n",
        "\"\"\"\n",
        "   PREFIX custom:  <http://test.org/onto14.owl#>\n",
        "\n",
        "   SELECT ?subject ?object\n",
        "\n",
        "   WHERE {?subject custom:hasLayer ?object   \n",
        "        }\n",
        "\n",
        "\"\"\"))"
      ],
      "metadata": {
        "colab": {
          "base_uri": "https://localhost:8080/"
        },
        "id": "etIieH5Y_-nD",
        "outputId": "c146615a-14c6-45ce-8ab7-e2fac02bad67"
      },
      "id": "etIieH5Y_-nD",
      "execution_count": null,
      "outputs": [
        {
          "output_type": "execute_result",
          "data": {
            "text/plain": [
              "[]"
            ]
          },
          "metadata": {},
          "execution_count": 11
        }
      ]
    },
    {
      "cell_type": "code",
      "source": [
        ""
      ],
      "metadata": {
        "id": "H4r6GtXsA5s6"
      },
      "id": "H4r6GtXsA5s6",
      "execution_count": null,
      "outputs": []
    }
  ],
  "metadata": {
    "kernelspec": {
      "display_name": "Python 3 (ipykernel)",
      "language": "python",
      "name": "python3"
    },
    "language_info": {
      "codemirror_mode": {
        "name": "ipython",
        "version": 3
      },
      "file_extension": ".py",
      "mimetype": "text/x-python",
      "name": "python",
      "nbconvert_exporter": "python",
      "pygments_lexer": "ipython3",
      "version": "3.9.0"
    },
    "colab": {
      "name": "Finallontoloi2.ipynb",
      "provenance": [],
      "collapsed_sections": [
        "04ad-EzC4oT_"
      ]
    },
    "widgets": {
      "application/vnd.jupyter.widget-state+json": {
        "f0beffff001843d6a8c2b6d2d2da28d5": {
          "model_module": "@jupyter-widgets/controls",
          "model_name": "HBoxModel",
          "model_module_version": "1.5.0",
          "state": {
            "_dom_classes": [],
            "_model_module": "@jupyter-widgets/controls",
            "_model_module_version": "1.5.0",
            "_model_name": "HBoxModel",
            "_view_count": null,
            "_view_module": "@jupyter-widgets/controls",
            "_view_module_version": "1.5.0",
            "_view_name": "HBoxView",
            "box_style": "",
            "children": [
              "IPY_MODEL_20346342e4434bc193b5fbded573fd8c",
              "IPY_MODEL_489084318ac74ae484130379a631bb80",
              "IPY_MODEL_b54e3c489c294fe19707b37268b2140e"
            ],
            "layout": "IPY_MODEL_3ed695c457d4449a9ede50057b346513"
          }
        },
        "20346342e4434bc193b5fbded573fd8c": {
          "model_module": "@jupyter-widgets/controls",
          "model_name": "HTMLModel",
          "model_module_version": "1.5.0",
          "state": {
            "_dom_classes": [],
            "_model_module": "@jupyter-widgets/controls",
            "_model_module_version": "1.5.0",
            "_model_name": "HTMLModel",
            "_view_count": null,
            "_view_module": "@jupyter-widgets/controls",
            "_view_module_version": "1.5.0",
            "_view_name": "HTMLView",
            "description": "",
            "description_tooltip": null,
            "layout": "IPY_MODEL_ea4d8e46f0d84e989624d375744d9691",
            "placeholder": "​",
            "style": "IPY_MODEL_c24a0009048d41268ec7f3a8c9ccbd42",
            "value": "Downloading: 100%"
          }
        },
        "489084318ac74ae484130379a631bb80": {
          "model_module": "@jupyter-widgets/controls",
          "model_name": "FloatProgressModel",
          "model_module_version": "1.5.0",
          "state": {
            "_dom_classes": [],
            "_model_module": "@jupyter-widgets/controls",
            "_model_module_version": "1.5.0",
            "_model_name": "FloatProgressModel",
            "_view_count": null,
            "_view_module": "@jupyter-widgets/controls",
            "_view_module_version": "1.5.0",
            "_view_name": "ProgressView",
            "bar_style": "success",
            "description": "",
            "description_tooltip": null,
            "layout": "IPY_MODEL_677cd5f5deff4a1caedfdd72185627cd",
            "max": 1388,
            "min": 0,
            "orientation": "horizontal",
            "style": "IPY_MODEL_1db736bf26a54aa7a43618996a008ac0",
            "value": 1388
          }
        },
        "b54e3c489c294fe19707b37268b2140e": {
          "model_module": "@jupyter-widgets/controls",
          "model_name": "HTMLModel",
          "model_module_version": "1.5.0",
          "state": {
            "_dom_classes": [],
            "_model_module": "@jupyter-widgets/controls",
            "_model_module_version": "1.5.0",
            "_model_name": "HTMLModel",
            "_view_count": null,
            "_view_module": "@jupyter-widgets/controls",
            "_view_module_version": "1.5.0",
            "_view_name": "HTMLView",
            "description": "",
            "description_tooltip": null,
            "layout": "IPY_MODEL_f2a3ab40d690403e88c890e27930b3ee",
            "placeholder": "​",
            "style": "IPY_MODEL_8318c67050784291bfc3d8c2cfb09b46",
            "value": " 1.36k/1.36k [00:00&lt;00:00, 9.63kB/s]"
          }
        },
        "3ed695c457d4449a9ede50057b346513": {
          "model_module": "@jupyter-widgets/base",
          "model_name": "LayoutModel",
          "model_module_version": "1.2.0",
          "state": {
            "_model_module": "@jupyter-widgets/base",
            "_model_module_version": "1.2.0",
            "_model_name": "LayoutModel",
            "_view_count": null,
            "_view_module": "@jupyter-widgets/base",
            "_view_module_version": "1.2.0",
            "_view_name": "LayoutView",
            "align_content": null,
            "align_items": null,
            "align_self": null,
            "border": null,
            "bottom": null,
            "display": null,
            "flex": null,
            "flex_flow": null,
            "grid_area": null,
            "grid_auto_columns": null,
            "grid_auto_flow": null,
            "grid_auto_rows": null,
            "grid_column": null,
            "grid_gap": null,
            "grid_row": null,
            "grid_template_areas": null,
            "grid_template_columns": null,
            "grid_template_rows": null,
            "height": null,
            "justify_content": null,
            "justify_items": null,
            "left": null,
            "margin": null,
            "max_height": null,
            "max_width": null,
            "min_height": null,
            "min_width": null,
            "object_fit": null,
            "object_position": null,
            "order": null,
            "overflow": null,
            "overflow_x": null,
            "overflow_y": null,
            "padding": null,
            "right": null,
            "top": null,
            "visibility": null,
            "width": null
          }
        },
        "ea4d8e46f0d84e989624d375744d9691": {
          "model_module": "@jupyter-widgets/base",
          "model_name": "LayoutModel",
          "model_module_version": "1.2.0",
          "state": {
            "_model_module": "@jupyter-widgets/base",
            "_model_module_version": "1.2.0",
            "_model_name": "LayoutModel",
            "_view_count": null,
            "_view_module": "@jupyter-widgets/base",
            "_view_module_version": "1.2.0",
            "_view_name": "LayoutView",
            "align_content": null,
            "align_items": null,
            "align_self": null,
            "border": null,
            "bottom": null,
            "display": null,
            "flex": null,
            "flex_flow": null,
            "grid_area": null,
            "grid_auto_columns": null,
            "grid_auto_flow": null,
            "grid_auto_rows": null,
            "grid_column": null,
            "grid_gap": null,
            "grid_row": null,
            "grid_template_areas": null,
            "grid_template_columns": null,
            "grid_template_rows": null,
            "height": null,
            "justify_content": null,
            "justify_items": null,
            "left": null,
            "margin": null,
            "max_height": null,
            "max_width": null,
            "min_height": null,
            "min_width": null,
            "object_fit": null,
            "object_position": null,
            "order": null,
            "overflow": null,
            "overflow_x": null,
            "overflow_y": null,
            "padding": null,
            "right": null,
            "top": null,
            "visibility": null,
            "width": null
          }
        },
        "c24a0009048d41268ec7f3a8c9ccbd42": {
          "model_module": "@jupyter-widgets/controls",
          "model_name": "DescriptionStyleModel",
          "model_module_version": "1.5.0",
          "state": {
            "_model_module": "@jupyter-widgets/controls",
            "_model_module_version": "1.5.0",
            "_model_name": "DescriptionStyleModel",
            "_view_count": null,
            "_view_module": "@jupyter-widgets/base",
            "_view_module_version": "1.2.0",
            "_view_name": "StyleView",
            "description_width": ""
          }
        },
        "677cd5f5deff4a1caedfdd72185627cd": {
          "model_module": "@jupyter-widgets/base",
          "model_name": "LayoutModel",
          "model_module_version": "1.2.0",
          "state": {
            "_model_module": "@jupyter-widgets/base",
            "_model_module_version": "1.2.0",
            "_model_name": "LayoutModel",
            "_view_count": null,
            "_view_module": "@jupyter-widgets/base",
            "_view_module_version": "1.2.0",
            "_view_name": "LayoutView",
            "align_content": null,
            "align_items": null,
            "align_self": null,
            "border": null,
            "bottom": null,
            "display": null,
            "flex": null,
            "flex_flow": null,
            "grid_area": null,
            "grid_auto_columns": null,
            "grid_auto_flow": null,
            "grid_auto_rows": null,
            "grid_column": null,
            "grid_gap": null,
            "grid_row": null,
            "grid_template_areas": null,
            "grid_template_columns": null,
            "grid_template_rows": null,
            "height": null,
            "justify_content": null,
            "justify_items": null,
            "left": null,
            "margin": null,
            "max_height": null,
            "max_width": null,
            "min_height": null,
            "min_width": null,
            "object_fit": null,
            "object_position": null,
            "order": null,
            "overflow": null,
            "overflow_x": null,
            "overflow_y": null,
            "padding": null,
            "right": null,
            "top": null,
            "visibility": null,
            "width": null
          }
        },
        "1db736bf26a54aa7a43618996a008ac0": {
          "model_module": "@jupyter-widgets/controls",
          "model_name": "ProgressStyleModel",
          "model_module_version": "1.5.0",
          "state": {
            "_model_module": "@jupyter-widgets/controls",
            "_model_module_version": "1.5.0",
            "_model_name": "ProgressStyleModel",
            "_view_count": null,
            "_view_module": "@jupyter-widgets/base",
            "_view_module_version": "1.2.0",
            "_view_name": "StyleView",
            "bar_color": null,
            "description_width": ""
          }
        },
        "f2a3ab40d690403e88c890e27930b3ee": {
          "model_module": "@jupyter-widgets/base",
          "model_name": "LayoutModel",
          "model_module_version": "1.2.0",
          "state": {
            "_model_module": "@jupyter-widgets/base",
            "_model_module_version": "1.2.0",
            "_model_name": "LayoutModel",
            "_view_count": null,
            "_view_module": "@jupyter-widgets/base",
            "_view_module_version": "1.2.0",
            "_view_name": "LayoutView",
            "align_content": null,
            "align_items": null,
            "align_self": null,
            "border": null,
            "bottom": null,
            "display": null,
            "flex": null,
            "flex_flow": null,
            "grid_area": null,
            "grid_auto_columns": null,
            "grid_auto_flow": null,
            "grid_auto_rows": null,
            "grid_column": null,
            "grid_gap": null,
            "grid_row": null,
            "grid_template_areas": null,
            "grid_template_columns": null,
            "grid_template_rows": null,
            "height": null,
            "justify_content": null,
            "justify_items": null,
            "left": null,
            "margin": null,
            "max_height": null,
            "max_width": null,
            "min_height": null,
            "min_width": null,
            "object_fit": null,
            "object_position": null,
            "order": null,
            "overflow": null,
            "overflow_x": null,
            "overflow_y": null,
            "padding": null,
            "right": null,
            "top": null,
            "visibility": null,
            "width": null
          }
        },
        "8318c67050784291bfc3d8c2cfb09b46": {
          "model_module": "@jupyter-widgets/controls",
          "model_name": "DescriptionStyleModel",
          "model_module_version": "1.5.0",
          "state": {
            "_model_module": "@jupyter-widgets/controls",
            "_model_module_version": "1.5.0",
            "_model_name": "DescriptionStyleModel",
            "_view_count": null,
            "_view_module": "@jupyter-widgets/base",
            "_view_module_version": "1.2.0",
            "_view_name": "StyleView",
            "description_width": ""
          }
        },
        "8d93081f6a964218b8e14a7d0b4454ab": {
          "model_module": "@jupyter-widgets/controls",
          "model_name": "HBoxModel",
          "model_module_version": "1.5.0",
          "state": {
            "_dom_classes": [],
            "_model_module": "@jupyter-widgets/controls",
            "_model_module_version": "1.5.0",
            "_model_name": "HBoxModel",
            "_view_count": null,
            "_view_module": "@jupyter-widgets/controls",
            "_view_module_version": "1.5.0",
            "_view_name": "HBoxView",
            "box_style": "",
            "children": [
              "IPY_MODEL_dd44d16885e542319da4da478c52a4b6",
              "IPY_MODEL_eaa1889b9580467ca32547304707afea",
              "IPY_MODEL_142d17c1c8a34bc2bf1ecf44189e402a"
            ],
            "layout": "IPY_MODEL_c80a2138458e4a88bfba361518959072"
          }
        },
        "dd44d16885e542319da4da478c52a4b6": {
          "model_module": "@jupyter-widgets/controls",
          "model_name": "HTMLModel",
          "model_module_version": "1.5.0",
          "state": {
            "_dom_classes": [],
            "_model_module": "@jupyter-widgets/controls",
            "_model_module_version": "1.5.0",
            "_model_name": "HTMLModel",
            "_view_count": null,
            "_view_module": "@jupyter-widgets/controls",
            "_view_module_version": "1.5.0",
            "_view_name": "HTMLView",
            "description": "",
            "description_tooltip": null,
            "layout": "IPY_MODEL_183d9b34a0cc4f81a89276888f9c1c31",
            "placeholder": "​",
            "style": "IPY_MODEL_3a0341cabe1549dfb82cddf344114609",
            "value": "Downloading: 100%"
          }
        },
        "eaa1889b9580467ca32547304707afea": {
          "model_module": "@jupyter-widgets/controls",
          "model_name": "FloatProgressModel",
          "model_module_version": "1.5.0",
          "state": {
            "_dom_classes": [],
            "_model_module": "@jupyter-widgets/controls",
            "_model_module_version": "1.5.0",
            "_model_name": "FloatProgressModel",
            "_view_count": null,
            "_view_module": "@jupyter-widgets/controls",
            "_view_module_version": "1.5.0",
            "_view_name": "ProgressView",
            "bar_style": "success",
            "description": "",
            "description_tooltip": null,
            "layout": "IPY_MODEL_f10e96a606af460c9d3090e0e7f9cb2c",
            "max": 891730879,
            "min": 0,
            "orientation": "horizontal",
            "style": "IPY_MODEL_5ba8dad51f584adbb1d4cbd759c0c79c",
            "value": 891730879
          }
        },
        "142d17c1c8a34bc2bf1ecf44189e402a": {
          "model_module": "@jupyter-widgets/controls",
          "model_name": "HTMLModel",
          "model_module_version": "1.5.0",
          "state": {
            "_dom_classes": [],
            "_model_module": "@jupyter-widgets/controls",
            "_model_module_version": "1.5.0",
            "_model_name": "HTMLModel",
            "_view_count": null,
            "_view_module": "@jupyter-widgets/controls",
            "_view_module_version": "1.5.0",
            "_view_name": "HTMLView",
            "description": "",
            "description_tooltip": null,
            "layout": "IPY_MODEL_18b558d6556f4f29bd94880799ca207a",
            "placeholder": "​",
            "style": "IPY_MODEL_6dc830f6a5614deca6a5e0bd93f52529",
            "value": " 850M/850M [00:44&lt;00:00, 19.8MB/s]"
          }
        },
        "c80a2138458e4a88bfba361518959072": {
          "model_module": "@jupyter-widgets/base",
          "model_name": "LayoutModel",
          "model_module_version": "1.2.0",
          "state": {
            "_model_module": "@jupyter-widgets/base",
            "_model_module_version": "1.2.0",
            "_model_name": "LayoutModel",
            "_view_count": null,
            "_view_module": "@jupyter-widgets/base",
            "_view_module_version": "1.2.0",
            "_view_name": "LayoutView",
            "align_content": null,
            "align_items": null,
            "align_self": null,
            "border": null,
            "bottom": null,
            "display": null,
            "flex": null,
            "flex_flow": null,
            "grid_area": null,
            "grid_auto_columns": null,
            "grid_auto_flow": null,
            "grid_auto_rows": null,
            "grid_column": null,
            "grid_gap": null,
            "grid_row": null,
            "grid_template_areas": null,
            "grid_template_columns": null,
            "grid_template_rows": null,
            "height": null,
            "justify_content": null,
            "justify_items": null,
            "left": null,
            "margin": null,
            "max_height": null,
            "max_width": null,
            "min_height": null,
            "min_width": null,
            "object_fit": null,
            "object_position": null,
            "order": null,
            "overflow": null,
            "overflow_x": null,
            "overflow_y": null,
            "padding": null,
            "right": null,
            "top": null,
            "visibility": null,
            "width": null
          }
        },
        "183d9b34a0cc4f81a89276888f9c1c31": {
          "model_module": "@jupyter-widgets/base",
          "model_name": "LayoutModel",
          "model_module_version": "1.2.0",
          "state": {
            "_model_module": "@jupyter-widgets/base",
            "_model_module_version": "1.2.0",
            "_model_name": "LayoutModel",
            "_view_count": null,
            "_view_module": "@jupyter-widgets/base",
            "_view_module_version": "1.2.0",
            "_view_name": "LayoutView",
            "align_content": null,
            "align_items": null,
            "align_self": null,
            "border": null,
            "bottom": null,
            "display": null,
            "flex": null,
            "flex_flow": null,
            "grid_area": null,
            "grid_auto_columns": null,
            "grid_auto_flow": null,
            "grid_auto_rows": null,
            "grid_column": null,
            "grid_gap": null,
            "grid_row": null,
            "grid_template_areas": null,
            "grid_template_columns": null,
            "grid_template_rows": null,
            "height": null,
            "justify_content": null,
            "justify_items": null,
            "left": null,
            "margin": null,
            "max_height": null,
            "max_width": null,
            "min_height": null,
            "min_width": null,
            "object_fit": null,
            "object_position": null,
            "order": null,
            "overflow": null,
            "overflow_x": null,
            "overflow_y": null,
            "padding": null,
            "right": null,
            "top": null,
            "visibility": null,
            "width": null
          }
        },
        "3a0341cabe1549dfb82cddf344114609": {
          "model_module": "@jupyter-widgets/controls",
          "model_name": "DescriptionStyleModel",
          "model_module_version": "1.5.0",
          "state": {
            "_model_module": "@jupyter-widgets/controls",
            "_model_module_version": "1.5.0",
            "_model_name": "DescriptionStyleModel",
            "_view_count": null,
            "_view_module": "@jupyter-widgets/base",
            "_view_module_version": "1.2.0",
            "_view_name": "StyleView",
            "description_width": ""
          }
        },
        "f10e96a606af460c9d3090e0e7f9cb2c": {
          "model_module": "@jupyter-widgets/base",
          "model_name": "LayoutModel",
          "model_module_version": "1.2.0",
          "state": {
            "_model_module": "@jupyter-widgets/base",
            "_model_module_version": "1.2.0",
            "_model_name": "LayoutModel",
            "_view_count": null,
            "_view_module": "@jupyter-widgets/base",
            "_view_module_version": "1.2.0",
            "_view_name": "LayoutView",
            "align_content": null,
            "align_items": null,
            "align_self": null,
            "border": null,
            "bottom": null,
            "display": null,
            "flex": null,
            "flex_flow": null,
            "grid_area": null,
            "grid_auto_columns": null,
            "grid_auto_flow": null,
            "grid_auto_rows": null,
            "grid_column": null,
            "grid_gap": null,
            "grid_row": null,
            "grid_template_areas": null,
            "grid_template_columns": null,
            "grid_template_rows": null,
            "height": null,
            "justify_content": null,
            "justify_items": null,
            "left": null,
            "margin": null,
            "max_height": null,
            "max_width": null,
            "min_height": null,
            "min_width": null,
            "object_fit": null,
            "object_position": null,
            "order": null,
            "overflow": null,
            "overflow_x": null,
            "overflow_y": null,
            "padding": null,
            "right": null,
            "top": null,
            "visibility": null,
            "width": null
          }
        },
        "5ba8dad51f584adbb1d4cbd759c0c79c": {
          "model_module": "@jupyter-widgets/controls",
          "model_name": "ProgressStyleModel",
          "model_module_version": "1.5.0",
          "state": {
            "_model_module": "@jupyter-widgets/controls",
            "_model_module_version": "1.5.0",
            "_model_name": "ProgressStyleModel",
            "_view_count": null,
            "_view_module": "@jupyter-widgets/base",
            "_view_module_version": "1.2.0",
            "_view_name": "StyleView",
            "bar_color": null,
            "description_width": ""
          }
        },
        "18b558d6556f4f29bd94880799ca207a": {
          "model_module": "@jupyter-widgets/base",
          "model_name": "LayoutModel",
          "model_module_version": "1.2.0",
          "state": {
            "_model_module": "@jupyter-widgets/base",
            "_model_module_version": "1.2.0",
            "_model_name": "LayoutModel",
            "_view_count": null,
            "_view_module": "@jupyter-widgets/base",
            "_view_module_version": "1.2.0",
            "_view_name": "LayoutView",
            "align_content": null,
            "align_items": null,
            "align_self": null,
            "border": null,
            "bottom": null,
            "display": null,
            "flex": null,
            "flex_flow": null,
            "grid_area": null,
            "grid_auto_columns": null,
            "grid_auto_flow": null,
            "grid_auto_rows": null,
            "grid_column": null,
            "grid_gap": null,
            "grid_row": null,
            "grid_template_areas": null,
            "grid_template_columns": null,
            "grid_template_rows": null,
            "height": null,
            "justify_content": null,
            "justify_items": null,
            "left": null,
            "margin": null,
            "max_height": null,
            "max_width": null,
            "min_height": null,
            "min_width": null,
            "object_fit": null,
            "object_position": null,
            "order": null,
            "overflow": null,
            "overflow_x": null,
            "overflow_y": null,
            "padding": null,
            "right": null,
            "top": null,
            "visibility": null,
            "width": null
          }
        },
        "6dc830f6a5614deca6a5e0bd93f52529": {
          "model_module": "@jupyter-widgets/controls",
          "model_name": "DescriptionStyleModel",
          "model_module_version": "1.5.0",
          "state": {
            "_model_module": "@jupyter-widgets/controls",
            "_model_module_version": "1.5.0",
            "_model_name": "DescriptionStyleModel",
            "_view_count": null,
            "_view_module": "@jupyter-widgets/base",
            "_view_module_version": "1.2.0",
            "_view_name": "StyleView",
            "description_width": ""
          }
        },
        "551be87013ca471aa00c9ae5716c6dce": {
          "model_module": "@jupyter-widgets/controls",
          "model_name": "HBoxModel",
          "model_module_version": "1.5.0",
          "state": {
            "_dom_classes": [],
            "_model_module": "@jupyter-widgets/controls",
            "_model_module_version": "1.5.0",
            "_model_name": "HBoxModel",
            "_view_count": null,
            "_view_module": "@jupyter-widgets/controls",
            "_view_module_version": "1.5.0",
            "_view_name": "HBoxView",
            "box_style": "",
            "children": [
              "IPY_MODEL_fa46279499d34d21b54be504463813cf",
              "IPY_MODEL_0451c3e8e3da4d9388efa03993be2ca7",
              "IPY_MODEL_54fd7c4659c84be283528054fb163a5c"
            ],
            "layout": "IPY_MODEL_549396dfe04d4f6d8d9575196b2adb81"
          }
        },
        "fa46279499d34d21b54be504463813cf": {
          "model_module": "@jupyter-widgets/controls",
          "model_name": "HTMLModel",
          "model_module_version": "1.5.0",
          "state": {
            "_dom_classes": [],
            "_model_module": "@jupyter-widgets/controls",
            "_model_module_version": "1.5.0",
            "_model_name": "HTMLModel",
            "_view_count": null,
            "_view_module": "@jupyter-widgets/controls",
            "_view_module_version": "1.5.0",
            "_view_name": "HTMLView",
            "description": "",
            "description_tooltip": null,
            "layout": "IPY_MODEL_db5ee94800f74bf793f378704753891e",
            "placeholder": "​",
            "style": "IPY_MODEL_febf3feca3be41bbb55a65b765dd26fc",
            "value": "Downloading: 100%"
          }
        },
        "0451c3e8e3da4d9388efa03993be2ca7": {
          "model_module": "@jupyter-widgets/controls",
          "model_name": "FloatProgressModel",
          "model_module_version": "1.5.0",
          "state": {
            "_dom_classes": [],
            "_model_module": "@jupyter-widgets/controls",
            "_model_module_version": "1.5.0",
            "_model_name": "FloatProgressModel",
            "_view_count": null,
            "_view_module": "@jupyter-widgets/controls",
            "_view_module_version": "1.5.0",
            "_view_name": "ProgressView",
            "bar_style": "success",
            "description": "",
            "description_tooltip": null,
            "layout": "IPY_MODEL_0ee01f578fbc466cb54552390994f168",
            "max": 1889,
            "min": 0,
            "orientation": "horizontal",
            "style": "IPY_MODEL_123255a8672a4bfc98a55e9452119b4d",
            "value": 1889
          }
        },
        "54fd7c4659c84be283528054fb163a5c": {
          "model_module": "@jupyter-widgets/controls",
          "model_name": "HTMLModel",
          "model_module_version": "1.5.0",
          "state": {
            "_dom_classes": [],
            "_model_module": "@jupyter-widgets/controls",
            "_model_module_version": "1.5.0",
            "_model_name": "HTMLModel",
            "_view_count": null,
            "_view_module": "@jupyter-widgets/controls",
            "_view_module_version": "1.5.0",
            "_view_name": "HTMLView",
            "description": "",
            "description_tooltip": null,
            "layout": "IPY_MODEL_a1ff147ad8174f5db765d625a3dc72ee",
            "placeholder": "​",
            "style": "IPY_MODEL_157499dd680b44e5931322da17cc49b0",
            "value": " 1.84k/1.84k [00:00&lt;00:00, 30.2kB/s]"
          }
        },
        "549396dfe04d4f6d8d9575196b2adb81": {
          "model_module": "@jupyter-widgets/base",
          "model_name": "LayoutModel",
          "model_module_version": "1.2.0",
          "state": {
            "_model_module": "@jupyter-widgets/base",
            "_model_module_version": "1.2.0",
            "_model_name": "LayoutModel",
            "_view_count": null,
            "_view_module": "@jupyter-widgets/base",
            "_view_module_version": "1.2.0",
            "_view_name": "LayoutView",
            "align_content": null,
            "align_items": null,
            "align_self": null,
            "border": null,
            "bottom": null,
            "display": null,
            "flex": null,
            "flex_flow": null,
            "grid_area": null,
            "grid_auto_columns": null,
            "grid_auto_flow": null,
            "grid_auto_rows": null,
            "grid_column": null,
            "grid_gap": null,
            "grid_row": null,
            "grid_template_areas": null,
            "grid_template_columns": null,
            "grid_template_rows": null,
            "height": null,
            "justify_content": null,
            "justify_items": null,
            "left": null,
            "margin": null,
            "max_height": null,
            "max_width": null,
            "min_height": null,
            "min_width": null,
            "object_fit": null,
            "object_position": null,
            "order": null,
            "overflow": null,
            "overflow_x": null,
            "overflow_y": null,
            "padding": null,
            "right": null,
            "top": null,
            "visibility": null,
            "width": null
          }
        },
        "db5ee94800f74bf793f378704753891e": {
          "model_module": "@jupyter-widgets/base",
          "model_name": "LayoutModel",
          "model_module_version": "1.2.0",
          "state": {
            "_model_module": "@jupyter-widgets/base",
            "_model_module_version": "1.2.0",
            "_model_name": "LayoutModel",
            "_view_count": null,
            "_view_module": "@jupyter-widgets/base",
            "_view_module_version": "1.2.0",
            "_view_name": "LayoutView",
            "align_content": null,
            "align_items": null,
            "align_self": null,
            "border": null,
            "bottom": null,
            "display": null,
            "flex": null,
            "flex_flow": null,
            "grid_area": null,
            "grid_auto_columns": null,
            "grid_auto_flow": null,
            "grid_auto_rows": null,
            "grid_column": null,
            "grid_gap": null,
            "grid_row": null,
            "grid_template_areas": null,
            "grid_template_columns": null,
            "grid_template_rows": null,
            "height": null,
            "justify_content": null,
            "justify_items": null,
            "left": null,
            "margin": null,
            "max_height": null,
            "max_width": null,
            "min_height": null,
            "min_width": null,
            "object_fit": null,
            "object_position": null,
            "order": null,
            "overflow": null,
            "overflow_x": null,
            "overflow_y": null,
            "padding": null,
            "right": null,
            "top": null,
            "visibility": null,
            "width": null
          }
        },
        "febf3feca3be41bbb55a65b765dd26fc": {
          "model_module": "@jupyter-widgets/controls",
          "model_name": "DescriptionStyleModel",
          "model_module_version": "1.5.0",
          "state": {
            "_model_module": "@jupyter-widgets/controls",
            "_model_module_version": "1.5.0",
            "_model_name": "DescriptionStyleModel",
            "_view_count": null,
            "_view_module": "@jupyter-widgets/base",
            "_view_module_version": "1.2.0",
            "_view_name": "StyleView",
            "description_width": ""
          }
        },
        "0ee01f578fbc466cb54552390994f168": {
          "model_module": "@jupyter-widgets/base",
          "model_name": "LayoutModel",
          "model_module_version": "1.2.0",
          "state": {
            "_model_module": "@jupyter-widgets/base",
            "_model_module_version": "1.2.0",
            "_model_name": "LayoutModel",
            "_view_count": null,
            "_view_module": "@jupyter-widgets/base",
            "_view_module_version": "1.2.0",
            "_view_name": "LayoutView",
            "align_content": null,
            "align_items": null,
            "align_self": null,
            "border": null,
            "bottom": null,
            "display": null,
            "flex": null,
            "flex_flow": null,
            "grid_area": null,
            "grid_auto_columns": null,
            "grid_auto_flow": null,
            "grid_auto_rows": null,
            "grid_column": null,
            "grid_gap": null,
            "grid_row": null,
            "grid_template_areas": null,
            "grid_template_columns": null,
            "grid_template_rows": null,
            "height": null,
            "justify_content": null,
            "justify_items": null,
            "left": null,
            "margin": null,
            "max_height": null,
            "max_width": null,
            "min_height": null,
            "min_width": null,
            "object_fit": null,
            "object_position": null,
            "order": null,
            "overflow": null,
            "overflow_x": null,
            "overflow_y": null,
            "padding": null,
            "right": null,
            "top": null,
            "visibility": null,
            "width": null
          }
        },
        "123255a8672a4bfc98a55e9452119b4d": {
          "model_module": "@jupyter-widgets/controls",
          "model_name": "ProgressStyleModel",
          "model_module_version": "1.5.0",
          "state": {
            "_model_module": "@jupyter-widgets/controls",
            "_model_module_version": "1.5.0",
            "_model_name": "ProgressStyleModel",
            "_view_count": null,
            "_view_module": "@jupyter-widgets/base",
            "_view_module_version": "1.2.0",
            "_view_name": "StyleView",
            "bar_color": null,
            "description_width": ""
          }
        },
        "a1ff147ad8174f5db765d625a3dc72ee": {
          "model_module": "@jupyter-widgets/base",
          "model_name": "LayoutModel",
          "model_module_version": "1.2.0",
          "state": {
            "_model_module": "@jupyter-widgets/base",
            "_model_module_version": "1.2.0",
            "_model_name": "LayoutModel",
            "_view_count": null,
            "_view_module": "@jupyter-widgets/base",
            "_view_module_version": "1.2.0",
            "_view_name": "LayoutView",
            "align_content": null,
            "align_items": null,
            "align_self": null,
            "border": null,
            "bottom": null,
            "display": null,
            "flex": null,
            "flex_flow": null,
            "grid_area": null,
            "grid_auto_columns": null,
            "grid_auto_flow": null,
            "grid_auto_rows": null,
            "grid_column": null,
            "grid_gap": null,
            "grid_row": null,
            "grid_template_areas": null,
            "grid_template_columns": null,
            "grid_template_rows": null,
            "height": null,
            "justify_content": null,
            "justify_items": null,
            "left": null,
            "margin": null,
            "max_height": null,
            "max_width": null,
            "min_height": null,
            "min_width": null,
            "object_fit": null,
            "object_position": null,
            "order": null,
            "overflow": null,
            "overflow_x": null,
            "overflow_y": null,
            "padding": null,
            "right": null,
            "top": null,
            "visibility": null,
            "width": null
          }
        },
        "157499dd680b44e5931322da17cc49b0": {
          "model_module": "@jupyter-widgets/controls",
          "model_name": "DescriptionStyleModel",
          "model_module_version": "1.5.0",
          "state": {
            "_model_module": "@jupyter-widgets/controls",
            "_model_module_version": "1.5.0",
            "_model_name": "DescriptionStyleModel",
            "_view_count": null,
            "_view_module": "@jupyter-widgets/base",
            "_view_module_version": "1.2.0",
            "_view_name": "StyleView",
            "description_width": ""
          }
        },
        "721ae11ede4d4b9898a77bf2a7382c46": {
          "model_module": "@jupyter-widgets/controls",
          "model_name": "HBoxModel",
          "model_module_version": "1.5.0",
          "state": {
            "_dom_classes": [],
            "_model_module": "@jupyter-widgets/controls",
            "_model_module_version": "1.5.0",
            "_model_name": "HBoxModel",
            "_view_count": null,
            "_view_module": "@jupyter-widgets/controls",
            "_view_module_version": "1.5.0",
            "_view_name": "HBoxView",
            "box_style": "",
            "children": [
              "IPY_MODEL_7bd0fd7ec6d24355922ba53573b3b401",
              "IPY_MODEL_a7888b56cf5c4ff1abb61e6a839fbe9d",
              "IPY_MODEL_a57dab7b9be34fd9b38c1c095c10afe2"
            ],
            "layout": "IPY_MODEL_3219fc4b19d34f77846beb561e6ba6a3"
          }
        },
        "7bd0fd7ec6d24355922ba53573b3b401": {
          "model_module": "@jupyter-widgets/controls",
          "model_name": "HTMLModel",
          "model_module_version": "1.5.0",
          "state": {
            "_dom_classes": [],
            "_model_module": "@jupyter-widgets/controls",
            "_model_module_version": "1.5.0",
            "_model_name": "HTMLModel",
            "_view_count": null,
            "_view_module": "@jupyter-widgets/controls",
            "_view_module_version": "1.5.0",
            "_view_name": "HTMLView",
            "description": "",
            "description_tooltip": null,
            "layout": "IPY_MODEL_c6e98241879c4b11840b5eabbab054b3",
            "placeholder": "​",
            "style": "IPY_MODEL_ae3b689ca5464288b4c2f492cd41995b",
            "value": "Downloading: 100%"
          }
        },
        "a7888b56cf5c4ff1abb61e6a839fbe9d": {
          "model_module": "@jupyter-widgets/controls",
          "model_name": "FloatProgressModel",
          "model_module_version": "1.5.0",
          "state": {
            "_dom_classes": [],
            "_model_module": "@jupyter-widgets/controls",
            "_model_module_version": "1.5.0",
            "_model_name": "FloatProgressModel",
            "_view_count": null,
            "_view_module": "@jupyter-widgets/controls",
            "_view_module_version": "1.5.0",
            "_view_name": "ProgressView",
            "bar_style": "success",
            "description": "",
            "description_tooltip": null,
            "layout": "IPY_MODEL_55559198e6634d2083be17abdba8b639",
            "max": 791656,
            "min": 0,
            "orientation": "horizontal",
            "style": "IPY_MODEL_0266483687ac42d98c3211482a04e8d7",
            "value": 791656
          }
        },
        "a57dab7b9be34fd9b38c1c095c10afe2": {
          "model_module": "@jupyter-widgets/controls",
          "model_name": "HTMLModel",
          "model_module_version": "1.5.0",
          "state": {
            "_dom_classes": [],
            "_model_module": "@jupyter-widgets/controls",
            "_model_module_version": "1.5.0",
            "_model_name": "HTMLModel",
            "_view_count": null,
            "_view_module": "@jupyter-widgets/controls",
            "_view_module_version": "1.5.0",
            "_view_name": "HTMLView",
            "description": "",
            "description_tooltip": null,
            "layout": "IPY_MODEL_e8e8a206cb464b68b734b56bbbbc1e0c",
            "placeholder": "​",
            "style": "IPY_MODEL_f3efc3e814b5481a9ae1fc64cd067c4a",
            "value": " 773k/773k [00:00&lt;00:00, 9.16MB/s]"
          }
        },
        "3219fc4b19d34f77846beb561e6ba6a3": {
          "model_module": "@jupyter-widgets/base",
          "model_name": "LayoutModel",
          "model_module_version": "1.2.0",
          "state": {
            "_model_module": "@jupyter-widgets/base",
            "_model_module_version": "1.2.0",
            "_model_name": "LayoutModel",
            "_view_count": null,
            "_view_module": "@jupyter-widgets/base",
            "_view_module_version": "1.2.0",
            "_view_name": "LayoutView",
            "align_content": null,
            "align_items": null,
            "align_self": null,
            "border": null,
            "bottom": null,
            "display": null,
            "flex": null,
            "flex_flow": null,
            "grid_area": null,
            "grid_auto_columns": null,
            "grid_auto_flow": null,
            "grid_auto_rows": null,
            "grid_column": null,
            "grid_gap": null,
            "grid_row": null,
            "grid_template_areas": null,
            "grid_template_columns": null,
            "grid_template_rows": null,
            "height": null,
            "justify_content": null,
            "justify_items": null,
            "left": null,
            "margin": null,
            "max_height": null,
            "max_width": null,
            "min_height": null,
            "min_width": null,
            "object_fit": null,
            "object_position": null,
            "order": null,
            "overflow": null,
            "overflow_x": null,
            "overflow_y": null,
            "padding": null,
            "right": null,
            "top": null,
            "visibility": null,
            "width": null
          }
        },
        "c6e98241879c4b11840b5eabbab054b3": {
          "model_module": "@jupyter-widgets/base",
          "model_name": "LayoutModel",
          "model_module_version": "1.2.0",
          "state": {
            "_model_module": "@jupyter-widgets/base",
            "_model_module_version": "1.2.0",
            "_model_name": "LayoutModel",
            "_view_count": null,
            "_view_module": "@jupyter-widgets/base",
            "_view_module_version": "1.2.0",
            "_view_name": "LayoutView",
            "align_content": null,
            "align_items": null,
            "align_self": null,
            "border": null,
            "bottom": null,
            "display": null,
            "flex": null,
            "flex_flow": null,
            "grid_area": null,
            "grid_auto_columns": null,
            "grid_auto_flow": null,
            "grid_auto_rows": null,
            "grid_column": null,
            "grid_gap": null,
            "grid_row": null,
            "grid_template_areas": null,
            "grid_template_columns": null,
            "grid_template_rows": null,
            "height": null,
            "justify_content": null,
            "justify_items": null,
            "left": null,
            "margin": null,
            "max_height": null,
            "max_width": null,
            "min_height": null,
            "min_width": null,
            "object_fit": null,
            "object_position": null,
            "order": null,
            "overflow": null,
            "overflow_x": null,
            "overflow_y": null,
            "padding": null,
            "right": null,
            "top": null,
            "visibility": null,
            "width": null
          }
        },
        "ae3b689ca5464288b4c2f492cd41995b": {
          "model_module": "@jupyter-widgets/controls",
          "model_name": "DescriptionStyleModel",
          "model_module_version": "1.5.0",
          "state": {
            "_model_module": "@jupyter-widgets/controls",
            "_model_module_version": "1.5.0",
            "_model_name": "DescriptionStyleModel",
            "_view_count": null,
            "_view_module": "@jupyter-widgets/base",
            "_view_module_version": "1.2.0",
            "_view_name": "StyleView",
            "description_width": ""
          }
        },
        "55559198e6634d2083be17abdba8b639": {
          "model_module": "@jupyter-widgets/base",
          "model_name": "LayoutModel",
          "model_module_version": "1.2.0",
          "state": {
            "_model_module": "@jupyter-widgets/base",
            "_model_module_version": "1.2.0",
            "_model_name": "LayoutModel",
            "_view_count": null,
            "_view_module": "@jupyter-widgets/base",
            "_view_module_version": "1.2.0",
            "_view_name": "LayoutView",
            "align_content": null,
            "align_items": null,
            "align_self": null,
            "border": null,
            "bottom": null,
            "display": null,
            "flex": null,
            "flex_flow": null,
            "grid_area": null,
            "grid_auto_columns": null,
            "grid_auto_flow": null,
            "grid_auto_rows": null,
            "grid_column": null,
            "grid_gap": null,
            "grid_row": null,
            "grid_template_areas": null,
            "grid_template_columns": null,
            "grid_template_rows": null,
            "height": null,
            "justify_content": null,
            "justify_items": null,
            "left": null,
            "margin": null,
            "max_height": null,
            "max_width": null,
            "min_height": null,
            "min_width": null,
            "object_fit": null,
            "object_position": null,
            "order": null,
            "overflow": null,
            "overflow_x": null,
            "overflow_y": null,
            "padding": null,
            "right": null,
            "top": null,
            "visibility": null,
            "width": null
          }
        },
        "0266483687ac42d98c3211482a04e8d7": {
          "model_module": "@jupyter-widgets/controls",
          "model_name": "ProgressStyleModel",
          "model_module_version": "1.5.0",
          "state": {
            "_model_module": "@jupyter-widgets/controls",
            "_model_module_version": "1.5.0",
            "_model_name": "ProgressStyleModel",
            "_view_count": null,
            "_view_module": "@jupyter-widgets/base",
            "_view_module_version": "1.2.0",
            "_view_name": "StyleView",
            "bar_color": null,
            "description_width": ""
          }
        },
        "e8e8a206cb464b68b734b56bbbbc1e0c": {
          "model_module": "@jupyter-widgets/base",
          "model_name": "LayoutModel",
          "model_module_version": "1.2.0",
          "state": {
            "_model_module": "@jupyter-widgets/base",
            "_model_module_version": "1.2.0",
            "_model_name": "LayoutModel",
            "_view_count": null,
            "_view_module": "@jupyter-widgets/base",
            "_view_module_version": "1.2.0",
            "_view_name": "LayoutView",
            "align_content": null,
            "align_items": null,
            "align_self": null,
            "border": null,
            "bottom": null,
            "display": null,
            "flex": null,
            "flex_flow": null,
            "grid_area": null,
            "grid_auto_columns": null,
            "grid_auto_flow": null,
            "grid_auto_rows": null,
            "grid_column": null,
            "grid_gap": null,
            "grid_row": null,
            "grid_template_areas": null,
            "grid_template_columns": null,
            "grid_template_rows": null,
            "height": null,
            "justify_content": null,
            "justify_items": null,
            "left": null,
            "margin": null,
            "max_height": null,
            "max_width": null,
            "min_height": null,
            "min_width": null,
            "object_fit": null,
            "object_position": null,
            "order": null,
            "overflow": null,
            "overflow_x": null,
            "overflow_y": null,
            "padding": null,
            "right": null,
            "top": null,
            "visibility": null,
            "width": null
          }
        },
        "f3efc3e814b5481a9ae1fc64cd067c4a": {
          "model_module": "@jupyter-widgets/controls",
          "model_name": "DescriptionStyleModel",
          "model_module_version": "1.5.0",
          "state": {
            "_model_module": "@jupyter-widgets/controls",
            "_model_module_version": "1.5.0",
            "_model_name": "DescriptionStyleModel",
            "_view_count": null,
            "_view_module": "@jupyter-widgets/base",
            "_view_module_version": "1.2.0",
            "_view_name": "StyleView",
            "description_width": ""
          }
        },
        "10fb6940d1d74d7a9fe41395d771abd6": {
          "model_module": "@jupyter-widgets/controls",
          "model_name": "HBoxModel",
          "model_module_version": "1.5.0",
          "state": {
            "_dom_classes": [],
            "_model_module": "@jupyter-widgets/controls",
            "_model_module_version": "1.5.0",
            "_model_name": "HBoxModel",
            "_view_count": null,
            "_view_module": "@jupyter-widgets/controls",
            "_view_module_version": "1.5.0",
            "_view_name": "HBoxView",
            "box_style": "",
            "children": [
              "IPY_MODEL_77b95056a01247b9aec769a94bbf0e5a",
              "IPY_MODEL_3143f9bf864e415ca04d924a6793fd32",
              "IPY_MODEL_a6c6731fb9404c28869aa502ccaf77e2"
            ],
            "layout": "IPY_MODEL_915435fad4c146a59ca475048e04c292"
          }
        },
        "77b95056a01247b9aec769a94bbf0e5a": {
          "model_module": "@jupyter-widgets/controls",
          "model_name": "HTMLModel",
          "model_module_version": "1.5.0",
          "state": {
            "_dom_classes": [],
            "_model_module": "@jupyter-widgets/controls",
            "_model_module_version": "1.5.0",
            "_model_name": "HTMLModel",
            "_view_count": null,
            "_view_module": "@jupyter-widgets/controls",
            "_view_module_version": "1.5.0",
            "_view_name": "HTMLView",
            "description": "",
            "description_tooltip": null,
            "layout": "IPY_MODEL_29f6a6932aa644d9b3c0e07cfded938a",
            "placeholder": "​",
            "style": "IPY_MODEL_5f3d993a8062498ca8701f36c6ca957f",
            "value": "Downloading: 100%"
          }
        },
        "3143f9bf864e415ca04d924a6793fd32": {
          "model_module": "@jupyter-widgets/controls",
          "model_name": "FloatProgressModel",
          "model_module_version": "1.5.0",
          "state": {
            "_dom_classes": [],
            "_model_module": "@jupyter-widgets/controls",
            "_model_module_version": "1.5.0",
            "_model_name": "FloatProgressModel",
            "_view_count": null,
            "_view_module": "@jupyter-widgets/controls",
            "_view_module_version": "1.5.0",
            "_view_name": "ProgressView",
            "bar_style": "success",
            "description": "",
            "description_tooltip": null,
            "layout": "IPY_MODEL_35965fef2bc249e3b40666c6d977c443",
            "max": 1387488,
            "min": 0,
            "orientation": "horizontal",
            "style": "IPY_MODEL_15c637916fc84714b70ee5f319e3b4eb",
            "value": 1387488
          }
        },
        "a6c6731fb9404c28869aa502ccaf77e2": {
          "model_module": "@jupyter-widgets/controls",
          "model_name": "HTMLModel",
          "model_module_version": "1.5.0",
          "state": {
            "_dom_classes": [],
            "_model_module": "@jupyter-widgets/controls",
            "_model_module_version": "1.5.0",
            "_model_name": "HTMLModel",
            "_view_count": null,
            "_view_module": "@jupyter-widgets/controls",
            "_view_module_version": "1.5.0",
            "_view_name": "HTMLView",
            "description": "",
            "description_tooltip": null,
            "layout": "IPY_MODEL_c2be9ff669974c0c9db5e43e3aede3ad",
            "placeholder": "​",
            "style": "IPY_MODEL_be3985c9e27b4f5193c51bdf2a373e98",
            "value": " 1.32M/1.32M [00:00&lt;00:00, 13.8MB/s]"
          }
        },
        "915435fad4c146a59ca475048e04c292": {
          "model_module": "@jupyter-widgets/base",
          "model_name": "LayoutModel",
          "model_module_version": "1.2.0",
          "state": {
            "_model_module": "@jupyter-widgets/base",
            "_model_module_version": "1.2.0",
            "_model_name": "LayoutModel",
            "_view_count": null,
            "_view_module": "@jupyter-widgets/base",
            "_view_module_version": "1.2.0",
            "_view_name": "LayoutView",
            "align_content": null,
            "align_items": null,
            "align_self": null,
            "border": null,
            "bottom": null,
            "display": null,
            "flex": null,
            "flex_flow": null,
            "grid_area": null,
            "grid_auto_columns": null,
            "grid_auto_flow": null,
            "grid_auto_rows": null,
            "grid_column": null,
            "grid_gap": null,
            "grid_row": null,
            "grid_template_areas": null,
            "grid_template_columns": null,
            "grid_template_rows": null,
            "height": null,
            "justify_content": null,
            "justify_items": null,
            "left": null,
            "margin": null,
            "max_height": null,
            "max_width": null,
            "min_height": null,
            "min_width": null,
            "object_fit": null,
            "object_position": null,
            "order": null,
            "overflow": null,
            "overflow_x": null,
            "overflow_y": null,
            "padding": null,
            "right": null,
            "top": null,
            "visibility": null,
            "width": null
          }
        },
        "29f6a6932aa644d9b3c0e07cfded938a": {
          "model_module": "@jupyter-widgets/base",
          "model_name": "LayoutModel",
          "model_module_version": "1.2.0",
          "state": {
            "_model_module": "@jupyter-widgets/base",
            "_model_module_version": "1.2.0",
            "_model_name": "LayoutModel",
            "_view_count": null,
            "_view_module": "@jupyter-widgets/base",
            "_view_module_version": "1.2.0",
            "_view_name": "LayoutView",
            "align_content": null,
            "align_items": null,
            "align_self": null,
            "border": null,
            "bottom": null,
            "display": null,
            "flex": null,
            "flex_flow": null,
            "grid_area": null,
            "grid_auto_columns": null,
            "grid_auto_flow": null,
            "grid_auto_rows": null,
            "grid_column": null,
            "grid_gap": null,
            "grid_row": null,
            "grid_template_areas": null,
            "grid_template_columns": null,
            "grid_template_rows": null,
            "height": null,
            "justify_content": null,
            "justify_items": null,
            "left": null,
            "margin": null,
            "max_height": null,
            "max_width": null,
            "min_height": null,
            "min_width": null,
            "object_fit": null,
            "object_position": null,
            "order": null,
            "overflow": null,
            "overflow_x": null,
            "overflow_y": null,
            "padding": null,
            "right": null,
            "top": null,
            "visibility": null,
            "width": null
          }
        },
        "5f3d993a8062498ca8701f36c6ca957f": {
          "model_module": "@jupyter-widgets/controls",
          "model_name": "DescriptionStyleModel",
          "model_module_version": "1.5.0",
          "state": {
            "_model_module": "@jupyter-widgets/controls",
            "_model_module_version": "1.5.0",
            "_model_name": "DescriptionStyleModel",
            "_view_count": null,
            "_view_module": "@jupyter-widgets/base",
            "_view_module_version": "1.2.0",
            "_view_name": "StyleView",
            "description_width": ""
          }
        },
        "35965fef2bc249e3b40666c6d977c443": {
          "model_module": "@jupyter-widgets/base",
          "model_name": "LayoutModel",
          "model_module_version": "1.2.0",
          "state": {
            "_model_module": "@jupyter-widgets/base",
            "_model_module_version": "1.2.0",
            "_model_name": "LayoutModel",
            "_view_count": null,
            "_view_module": "@jupyter-widgets/base",
            "_view_module_version": "1.2.0",
            "_view_name": "LayoutView",
            "align_content": null,
            "align_items": null,
            "align_self": null,
            "border": null,
            "bottom": null,
            "display": null,
            "flex": null,
            "flex_flow": null,
            "grid_area": null,
            "grid_auto_columns": null,
            "grid_auto_flow": null,
            "grid_auto_rows": null,
            "grid_column": null,
            "grid_gap": null,
            "grid_row": null,
            "grid_template_areas": null,
            "grid_template_columns": null,
            "grid_template_rows": null,
            "height": null,
            "justify_content": null,
            "justify_items": null,
            "left": null,
            "margin": null,
            "max_height": null,
            "max_width": null,
            "min_height": null,
            "min_width": null,
            "object_fit": null,
            "object_position": null,
            "order": null,
            "overflow": null,
            "overflow_x": null,
            "overflow_y": null,
            "padding": null,
            "right": null,
            "top": null,
            "visibility": null,
            "width": null
          }
        },
        "15c637916fc84714b70ee5f319e3b4eb": {
          "model_module": "@jupyter-widgets/controls",
          "model_name": "ProgressStyleModel",
          "model_module_version": "1.5.0",
          "state": {
            "_model_module": "@jupyter-widgets/controls",
            "_model_module_version": "1.5.0",
            "_model_name": "ProgressStyleModel",
            "_view_count": null,
            "_view_module": "@jupyter-widgets/base",
            "_view_module_version": "1.2.0",
            "_view_name": "StyleView",
            "bar_color": null,
            "description_width": ""
          }
        },
        "c2be9ff669974c0c9db5e43e3aede3ad": {
          "model_module": "@jupyter-widgets/base",
          "model_name": "LayoutModel",
          "model_module_version": "1.2.0",
          "state": {
            "_model_module": "@jupyter-widgets/base",
            "_model_module_version": "1.2.0",
            "_model_name": "LayoutModel",
            "_view_count": null,
            "_view_module": "@jupyter-widgets/base",
            "_view_module_version": "1.2.0",
            "_view_name": "LayoutView",
            "align_content": null,
            "align_items": null,
            "align_self": null,
            "border": null,
            "bottom": null,
            "display": null,
            "flex": null,
            "flex_flow": null,
            "grid_area": null,
            "grid_auto_columns": null,
            "grid_auto_flow": null,
            "grid_auto_rows": null,
            "grid_column": null,
            "grid_gap": null,
            "grid_row": null,
            "grid_template_areas": null,
            "grid_template_columns": null,
            "grid_template_rows": null,
            "height": null,
            "justify_content": null,
            "justify_items": null,
            "left": null,
            "margin": null,
            "max_height": null,
            "max_width": null,
            "min_height": null,
            "min_width": null,
            "object_fit": null,
            "object_position": null,
            "order": null,
            "overflow": null,
            "overflow_x": null,
            "overflow_y": null,
            "padding": null,
            "right": null,
            "top": null,
            "visibility": null,
            "width": null
          }
        },
        "be3985c9e27b4f5193c51bdf2a373e98": {
          "model_module": "@jupyter-widgets/controls",
          "model_name": "DescriptionStyleModel",
          "model_module_version": "1.5.0",
          "state": {
            "_model_module": "@jupyter-widgets/controls",
            "_model_module_version": "1.5.0",
            "_model_name": "DescriptionStyleModel",
            "_view_count": null,
            "_view_module": "@jupyter-widgets/base",
            "_view_module_version": "1.2.0",
            "_view_name": "StyleView",
            "description_width": ""
          }
        },
        "4d3aa3c903f24e8ca8fc430e0e5cc031": {
          "model_module": "@jupyter-widgets/controls",
          "model_name": "HBoxModel",
          "model_module_version": "1.5.0",
          "state": {
            "_dom_classes": [],
            "_model_module": "@jupyter-widgets/controls",
            "_model_module_version": "1.5.0",
            "_model_name": "HBoxModel",
            "_view_count": null,
            "_view_module": "@jupyter-widgets/controls",
            "_view_module_version": "1.5.0",
            "_view_name": "HBoxView",
            "box_style": "",
            "children": [
              "IPY_MODEL_d95b3474410a4233b240df3d662df1b7",
              "IPY_MODEL_c356abbb1e1b43f5b23fa9151157c433",
              "IPY_MODEL_75bc5d204dbe4caeb61ecc08bd9f3593"
            ],
            "layout": "IPY_MODEL_3f2691205e75431fac80fe9e65a4ebdd"
          }
        },
        "d95b3474410a4233b240df3d662df1b7": {
          "model_module": "@jupyter-widgets/controls",
          "model_name": "HTMLModel",
          "model_module_version": "1.5.0",
          "state": {
            "_dom_classes": [],
            "_model_module": "@jupyter-widgets/controls",
            "_model_module_version": "1.5.0",
            "_model_name": "HTMLModel",
            "_view_count": null,
            "_view_module": "@jupyter-widgets/controls",
            "_view_module_version": "1.5.0",
            "_view_name": "HTMLView",
            "description": "",
            "description_tooltip": null,
            "layout": "IPY_MODEL_a12349b69ee54eb68f22b1d3aac89ff5",
            "placeholder": "​",
            "style": "IPY_MODEL_1355163f435848b6ab5d6863bf41bdfc",
            "value": "Downloading: 100%"
          }
        },
        "c356abbb1e1b43f5b23fa9151157c433": {
          "model_module": "@jupyter-widgets/controls",
          "model_name": "FloatProgressModel",
          "model_module_version": "1.5.0",
          "state": {
            "_dom_classes": [],
            "_model_module": "@jupyter-widgets/controls",
            "_model_module_version": "1.5.0",
            "_model_name": "FloatProgressModel",
            "_view_count": null,
            "_view_module": "@jupyter-widgets/controls",
            "_view_module_version": "1.5.0",
            "_view_name": "ProgressView",
            "bar_style": "success",
            "description": "",
            "description_tooltip": null,
            "layout": "IPY_MODEL_aa44cd8ac96f42a8b658c275296681bd",
            "max": 1786,
            "min": 0,
            "orientation": "horizontal",
            "style": "IPY_MODEL_926262bce9094a3fb364a1ce40901179",
            "value": 1786
          }
        },
        "75bc5d204dbe4caeb61ecc08bd9f3593": {
          "model_module": "@jupyter-widgets/controls",
          "model_name": "HTMLModel",
          "model_module_version": "1.5.0",
          "state": {
            "_dom_classes": [],
            "_model_module": "@jupyter-widgets/controls",
            "_model_module_version": "1.5.0",
            "_model_name": "HTMLModel",
            "_view_count": null,
            "_view_module": "@jupyter-widgets/controls",
            "_view_module_version": "1.5.0",
            "_view_name": "HTMLView",
            "description": "",
            "description_tooltip": null,
            "layout": "IPY_MODEL_07b09fe0869d43ffab8fe66b30c07d30",
            "placeholder": "​",
            "style": "IPY_MODEL_ba1f871cfa6546b9a884def19bcac106",
            "value": " 1.74k/1.74k [00:00&lt;00:00, 41.5kB/s]"
          }
        },
        "3f2691205e75431fac80fe9e65a4ebdd": {
          "model_module": "@jupyter-widgets/base",
          "model_name": "LayoutModel",
          "model_module_version": "1.2.0",
          "state": {
            "_model_module": "@jupyter-widgets/base",
            "_model_module_version": "1.2.0",
            "_model_name": "LayoutModel",
            "_view_count": null,
            "_view_module": "@jupyter-widgets/base",
            "_view_module_version": "1.2.0",
            "_view_name": "LayoutView",
            "align_content": null,
            "align_items": null,
            "align_self": null,
            "border": null,
            "bottom": null,
            "display": null,
            "flex": null,
            "flex_flow": null,
            "grid_area": null,
            "grid_auto_columns": null,
            "grid_auto_flow": null,
            "grid_auto_rows": null,
            "grid_column": null,
            "grid_gap": null,
            "grid_row": null,
            "grid_template_areas": null,
            "grid_template_columns": null,
            "grid_template_rows": null,
            "height": null,
            "justify_content": null,
            "justify_items": null,
            "left": null,
            "margin": null,
            "max_height": null,
            "max_width": null,
            "min_height": null,
            "min_width": null,
            "object_fit": null,
            "object_position": null,
            "order": null,
            "overflow": null,
            "overflow_x": null,
            "overflow_y": null,
            "padding": null,
            "right": null,
            "top": null,
            "visibility": null,
            "width": null
          }
        },
        "a12349b69ee54eb68f22b1d3aac89ff5": {
          "model_module": "@jupyter-widgets/base",
          "model_name": "LayoutModel",
          "model_module_version": "1.2.0",
          "state": {
            "_model_module": "@jupyter-widgets/base",
            "_model_module_version": "1.2.0",
            "_model_name": "LayoutModel",
            "_view_count": null,
            "_view_module": "@jupyter-widgets/base",
            "_view_module_version": "1.2.0",
            "_view_name": "LayoutView",
            "align_content": null,
            "align_items": null,
            "align_self": null,
            "border": null,
            "bottom": null,
            "display": null,
            "flex": null,
            "flex_flow": null,
            "grid_area": null,
            "grid_auto_columns": null,
            "grid_auto_flow": null,
            "grid_auto_rows": null,
            "grid_column": null,
            "grid_gap": null,
            "grid_row": null,
            "grid_template_areas": null,
            "grid_template_columns": null,
            "grid_template_rows": null,
            "height": null,
            "justify_content": null,
            "justify_items": null,
            "left": null,
            "margin": null,
            "max_height": null,
            "max_width": null,
            "min_height": null,
            "min_width": null,
            "object_fit": null,
            "object_position": null,
            "order": null,
            "overflow": null,
            "overflow_x": null,
            "overflow_y": null,
            "padding": null,
            "right": null,
            "top": null,
            "visibility": null,
            "width": null
          }
        },
        "1355163f435848b6ab5d6863bf41bdfc": {
          "model_module": "@jupyter-widgets/controls",
          "model_name": "DescriptionStyleModel",
          "model_module_version": "1.5.0",
          "state": {
            "_model_module": "@jupyter-widgets/controls",
            "_model_module_version": "1.5.0",
            "_model_name": "DescriptionStyleModel",
            "_view_count": null,
            "_view_module": "@jupyter-widgets/base",
            "_view_module_version": "1.2.0",
            "_view_name": "StyleView",
            "description_width": ""
          }
        },
        "aa44cd8ac96f42a8b658c275296681bd": {
          "model_module": "@jupyter-widgets/base",
          "model_name": "LayoutModel",
          "model_module_version": "1.2.0",
          "state": {
            "_model_module": "@jupyter-widgets/base",
            "_model_module_version": "1.2.0",
            "_model_name": "LayoutModel",
            "_view_count": null,
            "_view_module": "@jupyter-widgets/base",
            "_view_module_version": "1.2.0",
            "_view_name": "LayoutView",
            "align_content": null,
            "align_items": null,
            "align_self": null,
            "border": null,
            "bottom": null,
            "display": null,
            "flex": null,
            "flex_flow": null,
            "grid_area": null,
            "grid_auto_columns": null,
            "grid_auto_flow": null,
            "grid_auto_rows": null,
            "grid_column": null,
            "grid_gap": null,
            "grid_row": null,
            "grid_template_areas": null,
            "grid_template_columns": null,
            "grid_template_rows": null,
            "height": null,
            "justify_content": null,
            "justify_items": null,
            "left": null,
            "margin": null,
            "max_height": null,
            "max_width": null,
            "min_height": null,
            "min_width": null,
            "object_fit": null,
            "object_position": null,
            "order": null,
            "overflow": null,
            "overflow_x": null,
            "overflow_y": null,
            "padding": null,
            "right": null,
            "top": null,
            "visibility": null,
            "width": null
          }
        },
        "926262bce9094a3fb364a1ce40901179": {
          "model_module": "@jupyter-widgets/controls",
          "model_name": "ProgressStyleModel",
          "model_module_version": "1.5.0",
          "state": {
            "_model_module": "@jupyter-widgets/controls",
            "_model_module_version": "1.5.0",
            "_model_name": "ProgressStyleModel",
            "_view_count": null,
            "_view_module": "@jupyter-widgets/base",
            "_view_module_version": "1.2.0",
            "_view_name": "StyleView",
            "bar_color": null,
            "description_width": ""
          }
        },
        "07b09fe0869d43ffab8fe66b30c07d30": {
          "model_module": "@jupyter-widgets/base",
          "model_name": "LayoutModel",
          "model_module_version": "1.2.0",
          "state": {
            "_model_module": "@jupyter-widgets/base",
            "_model_module_version": "1.2.0",
            "_model_name": "LayoutModel",
            "_view_count": null,
            "_view_module": "@jupyter-widgets/base",
            "_view_module_version": "1.2.0",
            "_view_name": "LayoutView",
            "align_content": null,
            "align_items": null,
            "align_self": null,
            "border": null,
            "bottom": null,
            "display": null,
            "flex": null,
            "flex_flow": null,
            "grid_area": null,
            "grid_auto_columns": null,
            "grid_auto_flow": null,
            "grid_auto_rows": null,
            "grid_column": null,
            "grid_gap": null,
            "grid_row": null,
            "grid_template_areas": null,
            "grid_template_columns": null,
            "grid_template_rows": null,
            "height": null,
            "justify_content": null,
            "justify_items": null,
            "left": null,
            "margin": null,
            "max_height": null,
            "max_width": null,
            "min_height": null,
            "min_width": null,
            "object_fit": null,
            "object_position": null,
            "order": null,
            "overflow": null,
            "overflow_x": null,
            "overflow_y": null,
            "padding": null,
            "right": null,
            "top": null,
            "visibility": null,
            "width": null
          }
        },
        "ba1f871cfa6546b9a884def19bcac106": {
          "model_module": "@jupyter-widgets/controls",
          "model_name": "DescriptionStyleModel",
          "model_module_version": "1.5.0",
          "state": {
            "_model_module": "@jupyter-widgets/controls",
            "_model_module_version": "1.5.0",
            "_model_name": "DescriptionStyleModel",
            "_view_count": null,
            "_view_module": "@jupyter-widgets/base",
            "_view_module_version": "1.2.0",
            "_view_name": "StyleView",
            "description_width": ""
          }
        }
      }
    }
  },
  "nbformat": 4,
  "nbformat_minor": 5
}